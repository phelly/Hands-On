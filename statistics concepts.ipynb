{
 "cells": [
  {
   "cell_type": "markdown",
   "metadata": {},
   "source": [
    "## _Importing relavant libraries_"
   ]
  },
  {
   "cell_type": "code",
   "execution_count": 1,
   "metadata": {},
   "outputs": [
    {
     "ename": "ModuleNotFoundError",
     "evalue": "No module named 'pandas_profiling'",
     "output_type": "error",
     "traceback": [
      "\u001b[1;31m---------------------------------------------------------------------------\u001b[0m",
      "\u001b[1;31mModuleNotFoundError\u001b[0m                       Traceback (most recent call last)",
      "\u001b[1;32m<ipython-input-1-134455e8b1ce>\u001b[0m in \u001b[0;36m<module>\u001b[1;34m\u001b[0m\n\u001b[0;32m      5\u001b[0m \u001b[1;32mimport\u001b[0m \u001b[0mseaborn\u001b[0m \u001b[1;32mas\u001b[0m \u001b[0msns\u001b[0m\u001b[1;33m\u001b[0m\u001b[1;33m\u001b[0m\u001b[0m\n\u001b[0;32m      6\u001b[0m \u001b[1;32mimport\u001b[0m \u001b[0mwarnings\u001b[0m\u001b[1;33m\u001b[0m\u001b[1;33m\u001b[0m\u001b[0m\n\u001b[1;32m----> 7\u001b[1;33m \u001b[1;32mimport\u001b[0m \u001b[0mpandas_profiling\u001b[0m \u001b[1;32mas\u001b[0m \u001b[0mpp\u001b[0m\u001b[1;33m\u001b[0m\u001b[1;33m\u001b[0m\u001b[0m\n\u001b[0m\u001b[0;32m      8\u001b[0m \u001b[1;32mimport\u001b[0m \u001b[0mchart_studio\u001b[0m\u001b[1;33m.\u001b[0m\u001b[0mplotly\u001b[0m \u001b[1;32mas\u001b[0m \u001b[0mpy\u001b[0m\u001b[1;33m\u001b[0m\u001b[1;33m\u001b[0m\u001b[0m\n\u001b[0;32m      9\u001b[0m \u001b[1;32mimport\u001b[0m \u001b[0mplotly\u001b[0m\u001b[1;33m.\u001b[0m\u001b[0mgraph_objs\u001b[0m \u001b[1;32mas\u001b[0m \u001b[0mgo\u001b[0m\u001b[1;33m\u001b[0m\u001b[1;33m\u001b[0m\u001b[0m\n",
      "\u001b[1;31mModuleNotFoundError\u001b[0m: No module named 'pandas_profiling'"
     ]
    }
   ],
   "source": [
    "import numpy as np\n",
    "import pandas as pd\n",
    "import matplotlib.pyplot as plt\n",
    "from matplotlib import gridspec\n",
    "import seaborn as sns\n",
    "import warnings\n",
    "import pandas_profiling as pp\n",
    "import chart_studio.plotly as py\n",
    "import plotly.graph_objs as go\n",
    "from plotly.offline import iplot, init_notebook_mode\n",
    "plt.style.use('seaborn-whitegrid')\n",
    "\n",
    "\n",
    "\n",
    "import statsmodels.api as sm\n",
    "import statsmodels.formula.api as smf\n",
    "\n",
    "import researchpy as rp\n",
    "\n",
    "from scipy.stats import kurtosis,skew\n",
    "\n",
    "%matplotlib inline\n",
    "sns.set()"
   ]
  },
  {
   "cell_type": "code",
   "execution_count": 28,
   "metadata": {},
   "outputs": [],
   "source": [
    "supermarket_data=pd.read_csv('supermarket_till_transactions.csv')"
   ]
  },
  {
   "cell_type": "markdown",
   "metadata": {},
   "source": [
    "1.What is the proportion of the target variable. In this case it is Spend"
   ]
  },
  {
   "cell_type": "code",
   "execution_count": 29,
   "metadata": {},
   "outputs": [
    {
     "data": {
      "text/html": [
       "<div>\n",
       "<style scoped>\n",
       "    .dataframe tbody tr th:only-of-type {\n",
       "        vertical-align: middle;\n",
       "    }\n",
       "\n",
       "    .dataframe tbody tr th {\n",
       "        vertical-align: top;\n",
       "    }\n",
       "\n",
       "    .dataframe thead th {\n",
       "        text-align: right;\n",
       "    }\n",
       "</style>\n",
       "<table border=\"1\" class=\"dataframe\">\n",
       "  <thead>\n",
       "    <tr style=\"text-align: right;\">\n",
       "      <th></th>\n",
       "      <th>spend</th>\n",
       "      <th>SPEND</th>\n",
       "    </tr>\n",
       "  </thead>\n",
       "  <tbody>\n",
       "    <tr>\n",
       "      <th>72</th>\n",
       "      <td>499</td>\n",
       "      <td>1</td>\n",
       "    </tr>\n",
       "    <tr>\n",
       "      <th>56</th>\n",
       "      <td>219</td>\n",
       "      <td>1</td>\n",
       "    </tr>\n",
       "    <tr>\n",
       "      <th>22</th>\n",
       "      <td>80</td>\n",
       "      <td>1</td>\n",
       "    </tr>\n",
       "    <tr>\n",
       "      <th>38</th>\n",
       "      <td>27</td>\n",
       "      <td>1</td>\n",
       "    </tr>\n",
       "    <tr>\n",
       "      <th>62</th>\n",
       "      <td>465</td>\n",
       "      <td>1</td>\n",
       "    </tr>\n",
       "    <tr>\n",
       "      <th>86</th>\n",
       "      <td>1406</td>\n",
       "      <td>1</td>\n",
       "    </tr>\n",
       "    <tr>\n",
       "      <th>36</th>\n",
       "      <td>24</td>\n",
       "      <td>1</td>\n",
       "    </tr>\n",
       "    <tr>\n",
       "      <th>26</th>\n",
       "      <td>13</td>\n",
       "      <td>1</td>\n",
       "    </tr>\n",
       "    <tr>\n",
       "      <th>61</th>\n",
       "      <td>456</td>\n",
       "      <td>1</td>\n",
       "    </tr>\n",
       "    <tr>\n",
       "      <th>63</th>\n",
       "      <td>211</td>\n",
       "      <td>1</td>\n",
       "    </tr>\n",
       "  </tbody>\n",
       "</table>\n",
       "</div>"
      ],
      "text/plain": [
       "    spend  SPEND\n",
       "72    499      1\n",
       "56    219      1\n",
       "22     80      1\n",
       "38     27      1\n",
       "62    465      1\n",
       "86   1406      1\n",
       "36     24      1\n",
       "26     13      1\n",
       "61    456      1\n",
       "63    211      1"
      ]
     },
     "execution_count": 29,
     "metadata": {},
     "output_type": "execute_result"
    }
   ],
   "source": [
    "#Get the value counts of the target variable\n",
    "spend_df=supermarket_data[\"SPEND\"].value_counts();spend_df.sample(10)\n",
    "spend_df1=spend_df.rename_axis(\"spend\").reset_index('spend')\n",
    "spend_df1.sample(10)"
   ]
  },
  {
   "cell_type": "code",
   "execution_count": 30,
   "metadata": {},
   "outputs": [
    {
     "data": {
      "text/html": [
       "<div>\n",
       "<style scoped>\n",
       "    .dataframe tbody tr th:only-of-type {\n",
       "        vertical-align: middle;\n",
       "    }\n",
       "\n",
       "    .dataframe tbody tr th {\n",
       "        vertical-align: top;\n",
       "    }\n",
       "\n",
       "    .dataframe thead th {\n",
       "        text-align: right;\n",
       "    }\n",
       "</style>\n",
       "<table border=\"1\" class=\"dataframe\">\n",
       "  <thead>\n",
       "    <tr style=\"text-align: right;\">\n",
       "      <th></th>\n",
       "      <th>life_stage</th>\n",
       "      <th>counts</th>\n",
       "    </tr>\n",
       "  </thead>\n",
       "  <tbody>\n",
       "    <tr>\n",
       "      <th>0</th>\n",
       "      <td>OT</td>\n",
       "      <td>38</td>\n",
       "    </tr>\n",
       "    <tr>\n",
       "      <th>1</th>\n",
       "      <td>YF</td>\n",
       "      <td>14</td>\n",
       "    </tr>\n",
       "    <tr>\n",
       "      <th>2</th>\n",
       "      <td>OA</td>\n",
       "      <td>11</td>\n",
       "    </tr>\n",
       "    <tr>\n",
       "      <th>3</th>\n",
       "      <td>OF</td>\n",
       "      <td>6</td>\n",
       "    </tr>\n",
       "    <tr>\n",
       "      <th>4</th>\n",
       "      <td>YA</td>\n",
       "      <td>4</td>\n",
       "    </tr>\n",
       "  </tbody>\n",
       "</table>\n",
       "</div>"
      ],
      "text/plain": [
       "  life_stage  counts\n",
       "0         OT      38\n",
       "1         YF      14\n",
       "2         OA      11\n",
       "3         OF       6\n",
       "4         YA       4"
      ]
     },
     "execution_count": 30,
     "metadata": {},
     "output_type": "execute_result"
    }
   ],
   "source": [
    "#Get the value counts of the target variable\n",
    "customer_life_stage_vc=supermarket_data[\"CUST_LIFESTAGE\"].value_counts()\n",
    "customer_life_stage_df=customer_life_stage_vc.rename_axis('life_stage').reset_index(name='counts')\n",
    "customer_life_stage_df"
   ]
  },
  {
   "cell_type": "code",
   "execution_count": 31,
   "metadata": {},
   "outputs": [
    {
     "data": {
      "image/png": "[encoded data removed]",
      "text/plain": [
       "<Figure size 1800x864 with 2 Axes>"
      ]
     },
     "metadata": {},
     "output_type": "display_data"
    }
   ],
   "source": [
    "#define labels\n",
    "life_stage_labels='OT','YF','OA','OF','YA'\n",
    "\n",
    "#Choose which proportion to explode\n",
    "\n",
    "life_stage_explode=(0,0,0.1,0,0)\n",
    "\n",
    "#create a container which will hold the subplots\n",
    "\n",
    "life_stage_fig=plt.figure(figsize=(25,12))\n",
    "\n",
    "#create a frame using grid spec\n",
    "gs = gridspec.GridSpec(6,7)\n",
    "\n",
    "#set subplot to visualize the pie chart\n",
    "pie_ax01 = plt.subplot(gs[0:,:-3])\n",
    "pie_ax01.set_title(label=\"Proportion of Life Stage\", fontdict={\"fontsize\":25})\n",
    "\n",
    "pie_ax01.pie(\n",
    "    customer_life_stage_df['counts'],\n",
    "    explode=life_stage_explode,\n",
    "    autopct=\"%1.1f%%\",\n",
    "    shadow=True,\n",
    "    startangle=90,\n",
    "    textprops={'fontsize':20}\n",
    ")\n",
    "pie_ax01.legend(life_stage_labels,loc=0,fontsize=12,ncol=2)\n",
    "\n",
    "#set subplot to visualize the bar graph\n",
    "bar_ax01 = plt.subplot(gs[:6,4:], )\n",
    "life_stage_label_list = customer_life_stage_df[\"life_stage\"]\n",
    "life_stage_freq = customer_life_stage_df[\"counts\"]\n",
    "index = np.arange(len(life_stage_label_list))\n",
    "\n",
    "width=1/1.5\n",
    "\n",
    "bar_ax01.set_title(label=\"Freq of Life Stage\",fontdict={'fontsize':25})\n",
    "bar_ax01.set_xlabel(xlabel='Life stage',fontdict={'fontsize':25})\n",
    "bar_ax01.set_ylabel(ylabel=\"counts\",fontdict={'fontsize':25})\n",
    "bar_ax01.set_xticklabels(life_stage_label_list,rotation='vertical',fontdict={'fontsize':25})\n",
    "bar_ax01.set_yticklabels(np.arange(0,40,5),rotation='horizontal',fontdict={'fontsize':25})\n",
    "\n",
    "\n",
    "bar_ax01.bar(life_stage_label_list, life_stage_freq, width)\n",
    "plt.tight_layout(pad=5)\n",
    "plt.show()"
   ]
  },
  {
   "cell_type": "markdown",
   "metadata": {},
   "source": [
    "## Descriptive Statistics"
   ]
  },
  {
   "cell_type": "markdown",
   "metadata": {},
   "source": [
    "**Am trying to at hour the spend and shop hour relate in a retail industry**"
   ]
  },
  {
   "cell_type": "code",
   "execution_count": 32,
   "metadata": {},
   "outputs": [
    {
     "data": {
      "text/plain": [
       "(119,)"
      ]
     },
     "execution_count": 32,
     "metadata": {},
     "output_type": "execute_result"
    }
   ],
   "source": [
    "sp=supermarket_data['SPEND'];sp.shape"
   ]
  },
  {
   "cell_type": "code",
   "execution_count": 33,
   "metadata": {},
   "outputs": [
    {
     "data": {
      "text/plain": [
       "113    15\n",
       "15     15\n",
       "105    12\n",
       "72     16\n",
       "59      9\n",
       "Name: SHOP_HOUR, dtype: int64"
      ]
     },
     "execution_count": 33,
     "metadata": {},
     "output_type": "execute_result"
    }
   ],
   "source": [
    "sh=supermarket_data['SHOP_HOUR'];sh.sample(5)"
   ]
  },
  {
   "cell_type": "code",
   "execution_count": 34,
   "metadata": {},
   "outputs": [
    {
     "data": {
      "text/plain": [
       "(119, 22)"
      ]
     },
     "execution_count": 34,
     "metadata": {},
     "output_type": "execute_result"
    }
   ],
   "source": [
    "supermarket_data.shape"
   ]
  },
  {
   "cell_type": "code",
   "execution_count": 35,
   "metadata": {},
   "outputs": [
    {
     "data": {
      "text/plain": [
       "<matplotlib.axes._subplots.AxesSubplot at 0x19fb1bab048>"
      ]
     },
     "execution_count": 35,
     "metadata": {},
     "output_type": "execute_result"
    },
    {
     "data": {
      "image/png": "[encoded data removed]",
      "text/plain": [
       "<Figure size 432x288 with 1 Axes>"
      ]
     },
     "metadata": {},
     "output_type": "display_data"
    }
   ],
   "source": [
    "sns.boxplot(x=sh)"
   ]
  },
  {
   "cell_type": "code",
   "execution_count": 36,
   "metadata": {},
   "outputs": [
    {
     "data": {
      "text/plain": [
       "<matplotlib.axes._subplots.AxesSubplot at 0x19fb1cc1748>"
      ]
     },
     "execution_count": 36,
     "metadata": {},
     "output_type": "execute_result"
    },
    {
     "data": {
      "image/png": "[encoded data removed]",
      "text/plain": [
       "<Figure size 432x288 with 1 Axes>"
      ]
     },
     "metadata": {},
     "output_type": "display_data"
    }
   ],
   "source": [
    "sns.boxplot(x=sp)"
   ]
  },
  {
   "cell_type": "code",
   "execution_count": 37,
   "metadata": {},
   "outputs": [
    {
     "name": "stdout",
     "output_type": "stream",
     "text": [
      "166.5\n"
     ]
    }
   ],
   "source": [
    "#print the Inter-Quartile Range\n",
    "Q1=sp.quantile(0.25)\n",
    "Q3=sp.quantile(0.75)\n",
    "IQR=Q3- Q1\n",
    "print(IQR)"
   ]
  },
  {
   "cell_type": "code",
   "execution_count": 38,
   "metadata": {},
   "outputs": [
    {
     "data": {
      "text/plain": [
       "(112,)"
      ]
     },
     "execution_count": 38,
     "metadata": {},
     "output_type": "execute_result"
    }
   ],
   "source": [
    "spd = sp[~((sp < (Q1-1.5 * IQR)) | (sp > Q3 + (1.5 * IQR) ))]\n",
    "spd.shape"
   ]
  },
  {
   "cell_type": "code",
   "execution_count": 39,
   "metadata": {},
   "outputs": [
    {
     "data": {
      "text/plain": [
       "<matplotlib.axes._subplots.AxesSubplot at 0x19fb1d27d30>"
      ]
     },
     "execution_count": 39,
     "metadata": {},
     "output_type": "execute_result"
    },
    {
     "data": {
      "image/png": "[encoded data removed]",
      "text/plain": [
       "<Figure size 432x288 with 1 Axes>"
      ]
     },
     "metadata": {},
     "output_type": "display_data"
    }
   ],
   "source": [
    "sns.boxplot(x=spd)"
   ]
  },
  {
   "cell_type": "code",
   "execution_count": 40,
   "metadata": {},
   "outputs": [
    {
     "data": {
      "text/plain": [
       "<function matplotlib.pyplot.show(*args, **kw)>"
      ]
     },
     "execution_count": 40,
     "metadata": {},
     "output_type": "execute_result"
    },
    {
     "data": {
      "image/png": "[encoded data removed]",
      "text/plain": [
       "<Figure size 720x432 with 1 Axes>"
      ]
     },
     "metadata": {},
     "output_type": "display_data"
    }
   ],
   "source": [
    "#plotting a scatter plot\n",
    "fig, ax = plt.subplots(figsize=(10,6))\n",
    "ax.scatter(sh,sp)\n",
    "ax.set_xlabel=('Shop hour')\n",
    "ax.set_ylabel=('Spend')\n",
    "\n",
    "plt.show"
   ]
  },
  {
   "cell_type": "markdown",
   "metadata": {},
   "source": [
    "Using this scatter plot we can somehow see that the shopping hours is between 8am to 8pm.\n",
    "Where most customers are likely to spend between 0-500(Kshs)"
   ]
  },
  {
   "cell_type": "code",
   "execution_count": 41,
   "metadata": {},
   "outputs": [
    {
     "data": {
      "text/html": [
       "<div>\n",
       "<style scoped>\n",
       "    .dataframe tbody tr th:only-of-type {\n",
       "        vertical-align: middle;\n",
       "    }\n",
       "\n",
       "    .dataframe tbody tr th {\n",
       "        vertical-align: top;\n",
       "    }\n",
       "\n",
       "    .dataframe thead th {\n",
       "        text-align: right;\n",
       "    }\n",
       "</style>\n",
       "<table border=\"1\" class=\"dataframe\">\n",
       "  <thead>\n",
       "    <tr style=\"text-align: right;\">\n",
       "      <th></th>\n",
       "      <th>SHOP_WEEK</th>\n",
       "      <th>SHOP_DATE</th>\n",
       "      <th>SHOP_WEEKDAY</th>\n",
       "      <th>SHOP_HOUR</th>\n",
       "      <th>QUANTITY</th>\n",
       "      <th>SPEND</th>\n",
       "      <th>PROD_CODE</th>\n",
       "      <th>PROD_CODE_10</th>\n",
       "      <th>PROD_CODE_20</th>\n",
       "      <th>PROD_CODE_30</th>\n",
       "      <th>...</th>\n",
       "      <th>CUST_PRICE_SENSITIVITY</th>\n",
       "      <th>CUST_LIFESTAGE</th>\n",
       "      <th>BASKET_ID</th>\n",
       "      <th>BASKET_SIZE</th>\n",
       "      <th>BASKET_PRICE_SENSITIVITY</th>\n",
       "      <th>BASKET_TYPE</th>\n",
       "      <th>BASKET_DOMINANT_MISSION</th>\n",
       "      <th>STORE_CODE</th>\n",
       "      <th>STORE_FORMAT</th>\n",
       "      <th>STORE_REGION</th>\n",
       "    </tr>\n",
       "  </thead>\n",
       "  <tbody>\n",
       "    <tr>\n",
       "      <th>71</th>\n",
       "      <td>200607</td>\n",
       "      <td>20060414</td>\n",
       "      <td>6</td>\n",
       "      <td>16</td>\n",
       "      <td>1</td>\n",
       "      <td>63</td>\n",
       "      <td>PRD0902008</td>\n",
       "      <td>CL00018</td>\n",
       "      <td>DEP00005</td>\n",
       "      <td>G00003</td>\n",
       "      <td>...</td>\n",
       "      <td>LA</td>\n",
       "      <td>OA</td>\n",
       "      <td>994100100540328</td>\n",
       "      <td>M</td>\n",
       "      <td>LA</td>\n",
       "      <td>Small Shop</td>\n",
       "      <td>Fresh</td>\n",
       "      <td>STORE00051</td>\n",
       "      <td>MS</td>\n",
       "      <td>W02</td>\n",
       "    </tr>\n",
       "    <tr>\n",
       "      <th>49</th>\n",
       "      <td>200607</td>\n",
       "      <td>20060410</td>\n",
       "      <td>2</td>\n",
       "      <td>9</td>\n",
       "      <td>1</td>\n",
       "      <td>391</td>\n",
       "      <td>PRD0900782</td>\n",
       "      <td>CL00086</td>\n",
       "      <td>DEP00024</td>\n",
       "      <td>G00007</td>\n",
       "      <td>...</td>\n",
       "      <td>NaN</td>\n",
       "      <td>NaN</td>\n",
       "      <td>994100100014637</td>\n",
       "      <td>L</td>\n",
       "      <td>UM</td>\n",
       "      <td>Full Shop</td>\n",
       "      <td>Mixed</td>\n",
       "      <td>STORE00013</td>\n",
       "      <td>LS</td>\n",
       "      <td>N02</td>\n",
       "    </tr>\n",
       "    <tr>\n",
       "      <th>87</th>\n",
       "      <td>200607</td>\n",
       "      <td>20060412</td>\n",
       "      <td>4</td>\n",
       "      <td>13</td>\n",
       "      <td>1</td>\n",
       "      <td>154</td>\n",
       "      <td>PRD0904358</td>\n",
       "      <td>CL00063</td>\n",
       "      <td>DEP00019</td>\n",
       "      <td>G00007</td>\n",
       "      <td>...</td>\n",
       "      <td>NaN</td>\n",
       "      <td>NaN</td>\n",
       "      <td>994100100058515</td>\n",
       "      <td>L</td>\n",
       "      <td>UM</td>\n",
       "      <td>Top Up</td>\n",
       "      <td>Fresh</td>\n",
       "      <td>STORE00078</td>\n",
       "      <td>LS</td>\n",
       "      <td>S01</td>\n",
       "    </tr>\n",
       "    <tr>\n",
       "      <th>13</th>\n",
       "      <td>200607</td>\n",
       "      <td>20060414</td>\n",
       "      <td>6</td>\n",
       "      <td>15</td>\n",
       "      <td>1</td>\n",
       "      <td>65</td>\n",
       "      <td>PRD0900302</td>\n",
       "      <td>CL00037</td>\n",
       "      <td>DEP00010</td>\n",
       "      <td>G00004</td>\n",
       "      <td>...</td>\n",
       "      <td>LA</td>\n",
       "      <td>OT</td>\n",
       "      <td>994100100206797</td>\n",
       "      <td>L</td>\n",
       "      <td>LA</td>\n",
       "      <td>Top Up</td>\n",
       "      <td>Fresh</td>\n",
       "      <td>STORE00002</td>\n",
       "      <td>LS</td>\n",
       "      <td>W01</td>\n",
       "    </tr>\n",
       "    <tr>\n",
       "      <th>89</th>\n",
       "      <td>200607</td>\n",
       "      <td>20060412</td>\n",
       "      <td>4</td>\n",
       "      <td>15</td>\n",
       "      <td>1</td>\n",
       "      <td>103</td>\n",
       "      <td>PRD0900292</td>\n",
       "      <td>CL00108</td>\n",
       "      <td>DEP00037</td>\n",
       "      <td>G00010</td>\n",
       "      <td>...</td>\n",
       "      <td>NaN</td>\n",
       "      <td>NaN</td>\n",
       "      <td>994100100088144</td>\n",
       "      <td>L</td>\n",
       "      <td>LA</td>\n",
       "      <td>Top Up</td>\n",
       "      <td>Fresh</td>\n",
       "      <td>STORE00103</td>\n",
       "      <td>MS</td>\n",
       "      <td>N03</td>\n",
       "    </tr>\n",
       "  </tbody>\n",
       "</table>\n",
       "<p>5 rows × 22 columns</p>\n",
       "</div>"
      ],
      "text/plain": [
       "    SHOP_WEEK  SHOP_DATE  SHOP_WEEKDAY  SHOP_HOUR  QUANTITY  SPEND  \\\n",
       "71     200607   20060414             6         16         1     63   \n",
       "49     200607   20060410             2          9         1    391   \n",
       "87     200607   20060412             4         13         1    154   \n",
       "13     200607   20060414             6         15         1     65   \n",
       "89     200607   20060412             4         15         1    103   \n",
       "\n",
       "     PROD_CODE PROD_CODE_10 PROD_CODE_20 PROD_CODE_30     ...       \\\n",
       "71  PRD0902008      CL00018     DEP00005       G00003     ...        \n",
       "49  PRD0900782      CL00086     DEP00024       G00007     ...        \n",
       "87  PRD0904358      CL00063     DEP00019       G00007     ...        \n",
       "13  PRD0900302      CL00037     DEP00010       G00004     ...        \n",
       "89  PRD0900292      CL00108     DEP00037       G00010     ...        \n",
       "\n",
       "   CUST_PRICE_SENSITIVITY CUST_LIFESTAGE        BASKET_ID BASKET_SIZE  \\\n",
       "71                     LA             OA  994100100540328           M   \n",
       "49                    NaN            NaN  994100100014637           L   \n",
       "87                    NaN            NaN  994100100058515           L   \n",
       "13                     LA             OT  994100100206797           L   \n",
       "89                    NaN            NaN  994100100088144           L   \n",
       "\n",
       "    BASKET_PRICE_SENSITIVITY BASKET_TYPE BASKET_DOMINANT_MISSION  STORE_CODE  \\\n",
       "71                        LA  Small Shop                   Fresh  STORE00051   \n",
       "49                        UM   Full Shop                   Mixed  STORE00013   \n",
       "87                        UM      Top Up                   Fresh  STORE00078   \n",
       "13                        LA      Top Up                   Fresh  STORE00002   \n",
       "89                        LA      Top Up                   Fresh  STORE00103   \n",
       "\n",
       "   STORE_FORMAT STORE_REGION  \n",
       "71           MS          W02  \n",
       "49           LS          N02  \n",
       "87           LS          S01  \n",
       "13           LS          W01  \n",
       "89           MS          N03  \n",
       "\n",
       "[5 rows x 22 columns]"
      ]
     },
     "execution_count": 41,
     "metadata": {},
     "output_type": "execute_result"
    }
   ],
   "source": [
    "supermarket_data.sample(5)"
   ]
  },
  {
   "cell_type": "code",
   "execution_count": 42,
   "metadata": {},
   "outputs": [
    {
     "data": {
      "image/png": "[encoded data removed]",
      "text/plain": [
       "<Figure size 432x288 with 1 Axes>"
      ]
     },
     "metadata": {},
     "output_type": "display_data"
    }
   ],
   "source": [
    "supermarket_data.BASKET_DOMINANT_MISSION.value_counts().nlargest(40).plot(kind='bar')\n",
    "plt.title('The basket dominant')\n",
    "plt.xlabel('Basket Type')\n",
    "plt.ylabel('Frequencies')\n",
    "plt.show()"
   ]
  },
  {
   "cell_type": "code",
   "execution_count": 43,
   "metadata": {},
   "outputs": [
    {
     "data": {
      "text/plain": [
       "203.10084033613447"
      ]
     },
     "execution_count": 43,
     "metadata": {},
     "output_type": "execute_result"
    }
   ],
   "source": [
    "x=supermarket_data['SPEND'].mean()\n",
    "x"
   ]
  },
  {
   "cell_type": "code",
   "execution_count": 44,
   "metadata": {},
   "outputs": [
    {
     "data": {
      "text/html": [
       "<div>\n",
       "<style scoped>\n",
       "    .dataframe tbody tr th:only-of-type {\n",
       "        vertical-align: middle;\n",
       "    }\n",
       "\n",
       "    .dataframe tbody tr th {\n",
       "        vertical-align: top;\n",
       "    }\n",
       "\n",
       "    .dataframe thead th {\n",
       "        text-align: right;\n",
       "    }\n",
       "</style>\n",
       "<table border=\"1\" class=\"dataframe\">\n",
       "  <thead>\n",
       "    <tr style=\"text-align: right;\">\n",
       "      <th></th>\n",
       "      <th>SPEND</th>\n",
       "      <th>SHOP_HOUR</th>\n",
       "      <th>QUANTITY</th>\n",
       "    </tr>\n",
       "  </thead>\n",
       "  <tbody>\n",
       "    <tr>\n",
       "      <th>13</th>\n",
       "      <td>65</td>\n",
       "      <td>15</td>\n",
       "      <td>1</td>\n",
       "    </tr>\n",
       "    <tr>\n",
       "      <th>43</th>\n",
       "      <td>226</td>\n",
       "      <td>8</td>\n",
       "      <td>1</td>\n",
       "    </tr>\n",
       "    <tr>\n",
       "      <th>35</th>\n",
       "      <td>326</td>\n",
       "      <td>8</td>\n",
       "      <td>1</td>\n",
       "    </tr>\n",
       "    <tr>\n",
       "      <th>50</th>\n",
       "      <td>125</td>\n",
       "      <td>9</td>\n",
       "      <td>1</td>\n",
       "    </tr>\n",
       "    <tr>\n",
       "      <th>40</th>\n",
       "      <td>80</td>\n",
       "      <td>8</td>\n",
       "      <td>1</td>\n",
       "    </tr>\n",
       "    <tr>\n",
       "      <th>81</th>\n",
       "      <td>74</td>\n",
       "      <td>13</td>\n",
       "      <td>1</td>\n",
       "    </tr>\n",
       "    <tr>\n",
       "      <th>25</th>\n",
       "      <td>92</td>\n",
       "      <td>15</td>\n",
       "      <td>1</td>\n",
       "    </tr>\n",
       "    <tr>\n",
       "      <th>31</th>\n",
       "      <td>118</td>\n",
       "      <td>8</td>\n",
       "      <td>1</td>\n",
       "    </tr>\n",
       "    <tr>\n",
       "      <th>11</th>\n",
       "      <td>340</td>\n",
       "      <td>20</td>\n",
       "      <td>4</td>\n",
       "    </tr>\n",
       "    <tr>\n",
       "      <th>77</th>\n",
       "      <td>182</td>\n",
       "      <td>13</td>\n",
       "      <td>1</td>\n",
       "    </tr>\n",
       "  </tbody>\n",
       "</table>\n",
       "</div>"
      ],
      "text/plain": [
       "    SPEND  SHOP_HOUR  QUANTITY\n",
       "13     65         15         1\n",
       "43    226          8         1\n",
       "35    326          8         1\n",
       "50    125          9         1\n",
       "40     80          8         1\n",
       "81     74         13         1\n",
       "25     92         15         1\n",
       "31    118          8         1\n",
       "11    340         20         4\n",
       "77    182         13         1"
      ]
     },
     "execution_count": 44,
     "metadata": {},
     "output_type": "execute_result"
    }
   ],
   "source": [
    "data1=supermarket_data[['SPEND','SHOP_HOUR','QUANTITY']];data1.sample(10)"
   ]
  },
  {
   "cell_type": "code",
   "execution_count": 45,
   "metadata": {},
   "outputs": [
    {
     "data": {
      "text/html": [
       "<div>\n",
       "<style scoped>\n",
       "    .dataframe tbody tr th:only-of-type {\n",
       "        vertical-align: middle;\n",
       "    }\n",
       "\n",
       "    .dataframe tbody tr th {\n",
       "        vertical-align: top;\n",
       "    }\n",
       "\n",
       "    .dataframe thead th {\n",
       "        text-align: right;\n",
       "    }\n",
       "</style>\n",
       "<table border=\"1\" class=\"dataframe\">\n",
       "  <thead>\n",
       "    <tr style=\"text-align: right;\">\n",
       "      <th></th>\n",
       "      <th>SPEND</th>\n",
       "      <th>SHOP_HOUR</th>\n",
       "      <th>QUANTITY</th>\n",
       "    </tr>\n",
       "  </thead>\n",
       "  <tbody>\n",
       "    <tr>\n",
       "      <th>count</th>\n",
       "      <td>119.000000</td>\n",
       "      <td>119.000000</td>\n",
       "      <td>119.000000</td>\n",
       "    </tr>\n",
       "    <tr>\n",
       "      <th>mean</th>\n",
       "      <td>203.100840</td>\n",
       "      <td>13.420168</td>\n",
       "      <td>1.512605</td>\n",
       "    </tr>\n",
       "    <tr>\n",
       "      <th>std</th>\n",
       "      <td>248.774637</td>\n",
       "      <td>4.049473</td>\n",
       "      <td>1.227272</td>\n",
       "    </tr>\n",
       "    <tr>\n",
       "      <th>min</th>\n",
       "      <td>13.000000</td>\n",
       "      <td>8.000000</td>\n",
       "      <td>1.000000</td>\n",
       "    </tr>\n",
       "    <tr>\n",
       "      <th>25%</th>\n",
       "      <td>74.500000</td>\n",
       "      <td>9.000000</td>\n",
       "      <td>1.000000</td>\n",
       "    </tr>\n",
       "    <tr>\n",
       "      <th>50%</th>\n",
       "      <td>132.000000</td>\n",
       "      <td>13.000000</td>\n",
       "      <td>1.000000</td>\n",
       "    </tr>\n",
       "    <tr>\n",
       "      <th>75%</th>\n",
       "      <td>241.000000</td>\n",
       "      <td>15.000000</td>\n",
       "      <td>1.000000</td>\n",
       "    </tr>\n",
       "    <tr>\n",
       "      <th>max</th>\n",
       "      <td>1820.000000</td>\n",
       "      <td>20.000000</td>\n",
       "      <td>9.000000</td>\n",
       "    </tr>\n",
       "  </tbody>\n",
       "</table>\n",
       "</div>"
      ],
      "text/plain": [
       "             SPEND   SHOP_HOUR    QUANTITY\n",
       "count   119.000000  119.000000  119.000000\n",
       "mean    203.100840   13.420168    1.512605\n",
       "std     248.774637    4.049473    1.227272\n",
       "min      13.000000    8.000000    1.000000\n",
       "25%      74.500000    9.000000    1.000000\n",
       "50%     132.000000   13.000000    1.000000\n",
       "75%     241.000000   15.000000    1.000000\n",
       "max    1820.000000   20.000000    9.000000"
      ]
     },
     "execution_count": 45,
     "metadata": {},
     "output_type": "execute_result"
    }
   ],
   "source": [
    "x2=data1.describe()\n",
    "x2"
   ]
  },
  {
   "cell_type": "code",
   "execution_count": 46,
   "metadata": {},
   "outputs": [
    {
     "data": {
      "text/plain": [
       "SPEND        4.031387\n",
       "SHOP_HOUR    0.164604\n",
       "QUANTITY     3.215793\n",
       "dtype: float64"
      ]
     },
     "execution_count": 46,
     "metadata": {},
     "output_type": "execute_result"
    }
   ],
   "source": [
    "#calculating the skewness of the data\n",
    "x3=data1.skew()\n",
    "x3"
   ]
  },
  {
   "cell_type": "markdown",
   "metadata": {},
   "source": [
    "Since |coef| >1 ,the distribution is said to be highly skewed. Thus spend is highly skewed with quantity.\n",
    "While shop hour is slightly skewed"
   ]
  },
  {
   "cell_type": "code",
   "execution_count": 47,
   "metadata": {},
   "outputs": [
    {
     "data": {
      "text/plain": [
       "SPEND        20.539802\n",
       "SHOP_HOUR    -1.110805\n",
       "QUANTITY     13.266849\n",
       "dtype: float64"
      ]
     },
     "execution_count": 47,
     "metadata": {},
     "output_type": "execute_result"
    }
   ],
   "source": [
    "#calculating the kurtosis for the data\n",
    "x4=data1.kurtosis();x4"
   ]
  },
  {
   "cell_type": "code",
   "execution_count": null,
   "metadata": {},
   "outputs": [],
   "source": []
  },
  {
   "cell_type": "code",
   "execution_count": 49,
   "metadata": {},
   "outputs": [
    {
     "data": {
      "text/plain": [
       "SPEND        61368.746134\n",
       "SHOP_HOUR       16.260434\n",
       "QUANTITY         1.493539\n",
       "dtype: float64"
      ]
     },
     "execution_count": 49,
     "metadata": {},
     "output_type": "execute_result"
    }
   ],
   "source": [
    "np.var(data1)"
   ]
  },
  {
   "cell_type": "code",
   "execution_count": 50,
   "metadata": {},
   "outputs": [
    {
     "data": {
      "text/plain": [
       "(array([ 9.,  8.,  9.,  9., 14.,  5.,  8.,  9.,  3.,  5.,  2.,  7.,  5.,\n",
       "         0.,  4.,  1.,  2.,  2.,  1.,  2.,  2.,  0.,  0.,  1.,  2.,  1.,\n",
       "         3.,  1.,  0.,  0.,  0.,  0.,  0.,  0.,  0.,  0.,  0.,  0.,  0.,\n",
       "         1.,  0.,  0.,  0.,  0.,  0.,  0.,  0.,  0.,  0.,  0.,  0.,  0.,\n",
       "         0.,  0.,  0.,  0.,  0.,  0.,  0.,  0.,  0.,  0.,  0.,  0.,  0.,\n",
       "         0.,  1.,  0.,  0.,  0.,  0.,  0.,  0.,  0.,  0.,  0.,  0.,  1.,\n",
       "         0.,  0.,  0.,  0.,  0.,  0.,  0.,  0.,  0.,  0.,  0.,  0.,  0.,\n",
       "         0.,  0.,  0.,  0.,  0.,  0.,  0.,  0.,  1.]),\n",
       " array([  13.  ,   31.07,   49.14,   67.21,   85.28,  103.35,  121.42,\n",
       "         139.49,  157.56,  175.63,  193.7 ,  211.77,  229.84,  247.91,\n",
       "         265.98,  284.05,  302.12,  320.19,  338.26,  356.33,  374.4 ,\n",
       "         392.47,  410.54,  428.61,  446.68,  464.75,  482.82,  500.89,\n",
       "         518.96,  537.03,  555.1 ,  573.17,  591.24,  609.31,  627.38,\n",
       "         645.45,  663.52,  681.59,  699.66,  717.73,  735.8 ,  753.87,\n",
       "         771.94,  790.01,  808.08,  826.15,  844.22,  862.29,  880.36,\n",
       "         898.43,  916.5 ,  934.57,  952.64,  970.71,  988.78, 1006.85,\n",
       "        1024.92, 1042.99, 1061.06, 1079.13, 1097.2 , 1115.27, 1133.34,\n",
       "        1151.41, 1169.48, 1187.55, 1205.62, 1223.69, 1241.76, 1259.83,\n",
       "        1277.9 , 1295.97, 1314.04, 1332.11, 1350.18, 1368.25, 1386.32,\n",
       "        1404.39, 1422.46, 1440.53, 1458.6 , 1476.67, 1494.74, 1512.81,\n",
       "        1530.88, 1548.95, 1567.02, 1585.09, 1603.16, 1621.23, 1639.3 ,\n",
       "        1657.37, 1675.44, 1693.51, 1711.58, 1729.65, 1747.72, 1765.79,\n",
       "        1783.86, 1801.93, 1820.  ]),\n",
       " <a list of 100 Patch objects>)"
      ]
     },
     "execution_count": 50,
     "metadata": {},
     "output_type": "execute_result"
    },
    {
     "data": {
      "image/png": "[encoded data removed]",
      "text/plain": [
       "<Figure size 432x288 with 1 Axes>"
      ]
     },
     "metadata": {},
     "output_type": "display_data"
    }
   ],
   "source": [
    "#Histogram to visualize spend\n",
    "fig\n",
    "plt.style.use('ggplot')\n",
    "x5=supermarket_data['SPEND']\n",
    "plt.hist(x5,bins=100)"
   ]
  },
  {
   "cell_type": "markdown",
   "metadata": {},
   "source": [
    "**Spend seems to be also positively skewed.**"
   ]
  },
  {
   "cell_type": "code",
   "execution_count": 51,
   "metadata": {},
   "outputs": [
    {
     "data": {
      "text/html": [
       "<div>\n",
       "<style scoped>\n",
       "    .dataframe tbody tr th:only-of-type {\n",
       "        vertical-align: middle;\n",
       "    }\n",
       "\n",
       "    .dataframe tbody tr th {\n",
       "        vertical-align: top;\n",
       "    }\n",
       "\n",
       "    .dataframe thead th {\n",
       "        text-align: right;\n",
       "    }\n",
       "</style>\n",
       "<table border=\"1\" class=\"dataframe\">\n",
       "  <thead>\n",
       "    <tr style=\"text-align: right;\">\n",
       "      <th></th>\n",
       "      <th>SPEND</th>\n",
       "      <th>SHOP_HOUR</th>\n",
       "      <th>QUANTITY</th>\n",
       "    </tr>\n",
       "  </thead>\n",
       "  <tbody>\n",
       "    <tr>\n",
       "      <th>0</th>\n",
       "      <td>101</td>\n",
       "      <td>15</td>\n",
       "      <td>1</td>\n",
       "    </tr>\n",
       "  </tbody>\n",
       "</table>\n",
       "</div>"
      ],
      "text/plain": [
       "   SPEND  SHOP_HOUR  QUANTITY\n",
       "0    101         15         1"
      ]
     },
     "execution_count": 51,
     "metadata": {},
     "output_type": "execute_result"
    }
   ],
   "source": [
    "data1_mode=data1.mode()\n",
    "data1_mode"
   ]
  },
  {
   "cell_type": "markdown",
   "metadata": {},
   "source": [
    "## Inferential Statistics"
   ]
  },
  {
   "cell_type": "markdown",
   "metadata": {},
   "source": [
    "We can say that, a sample of 100 people their average spending amount will be 200. Given the population average is 203.\n",
    "- Thus :\n",
    "\n",
    "- Null Hypothesis: The mean is equal to 200\n",
    "- Alternative hypothesis :The mean is not equal to 200\n",
    "\n",
    "\n",
    "Using 5% as significance level\n"
   ]
  },
  {
   "cell_type": "code",
   "execution_count": 52,
   "metadata": {},
   "outputs": [
    {
     "name": "stdout",
     "output_type": "stream",
     "text": [
      "203.10084033613447\n",
      "Pvalue 1.4737038853695829e-05\n",
      "t test 4.520948748613231\n"
     ]
    }
   ],
   "source": [
    "#Calculating T Test for \n",
    "from scipy.stats import ttest_1samp\n",
    "sh1=supermarket_data[\"SPEND\"]\n",
    "sh1_mean=sh1.mean()\n",
    "print(sh1_mean)\n",
    "\n",
    "tset, pval = ttest_1samp(sh1,100\n",
    "                        )\n",
    "print('Pvalue',pval)\n",
    "print('t test',tset)"
   ]
  },
  {
   "cell_type": "markdown",
   "metadata": {},
   "source": [
    "Since the pvalue is less than 0.05 thus we reject the null hypothesis."
   ]
  },
  {
   "cell_type": "markdown",
   "metadata": {},
   "source": [
    "We can also confirm this by test statictics and the critical value which is 1.96.\n",
    "Thus 4.5 > 1.96 we reject the null hypothesis.\n",
    "\n",
    "\n",
    "THEREFORE THERE IS ENOUGH EVIDENCE TO INDICATE THAT THE AVERAGE SPEND PER DAY IS NOT EQUAL TO 200/= THUS WE REJECT THE CLAIM"
   ]
  },
  {
   "cell_type": "code",
   "execution_count": 53,
   "metadata": {},
   "outputs": [
    {
     "data": {
      "text/html": [
       "<div>\n",
       "<style scoped>\n",
       "    .dataframe tbody tr th:only-of-type {\n",
       "        vertical-align: middle;\n",
       "    }\n",
       "\n",
       "    .dataframe tbody tr th {\n",
       "        vertical-align: top;\n",
       "    }\n",
       "\n",
       "    .dataframe thead th {\n",
       "        text-align: right;\n",
       "    }\n",
       "</style>\n",
       "<table border=\"1\" class=\"dataframe\">\n",
       "  <thead>\n",
       "    <tr style=\"text-align: right;\">\n",
       "      <th></th>\n",
       "      <th>SHOP_WEEK</th>\n",
       "      <th>SHOP_DATE</th>\n",
       "      <th>SHOP_WEEKDAY</th>\n",
       "      <th>SHOP_HOUR</th>\n",
       "      <th>QUANTITY</th>\n",
       "      <th>SPEND</th>\n",
       "      <th>PROD_CODE</th>\n",
       "      <th>PROD_CODE_10</th>\n",
       "      <th>PROD_CODE_20</th>\n",
       "      <th>PROD_CODE_30</th>\n",
       "      <th>...</th>\n",
       "      <th>CUST_PRICE_SENSITIVITY</th>\n",
       "      <th>CUST_LIFESTAGE</th>\n",
       "      <th>BASKET_ID</th>\n",
       "      <th>BASKET_SIZE</th>\n",
       "      <th>BASKET_PRICE_SENSITIVITY</th>\n",
       "      <th>BASKET_TYPE</th>\n",
       "      <th>BASKET_DOMINANT_MISSION</th>\n",
       "      <th>STORE_CODE</th>\n",
       "      <th>STORE_FORMAT</th>\n",
       "      <th>STORE_REGION</th>\n",
       "    </tr>\n",
       "  </thead>\n",
       "  <tbody>\n",
       "    <tr>\n",
       "      <th>0</th>\n",
       "      <td>200607</td>\n",
       "      <td>20060413</td>\n",
       "      <td>5</td>\n",
       "      <td>20</td>\n",
       "      <td>1</td>\n",
       "      <td>103</td>\n",
       "      <td>PRD0900097</td>\n",
       "      <td>CL00001</td>\n",
       "      <td>DEP00001</td>\n",
       "      <td>G00001</td>\n",
       "      <td>...</td>\n",
       "      <td>LA</td>\n",
       "      <td>YF</td>\n",
       "      <td>994100100532898</td>\n",
       "      <td>L</td>\n",
       "      <td>LA</td>\n",
       "      <td>Top Up</td>\n",
       "      <td>Fresh</td>\n",
       "      <td>STORE00001</td>\n",
       "      <td>LS</td>\n",
       "      <td>E02</td>\n",
       "    </tr>\n",
       "    <tr>\n",
       "      <th>1</th>\n",
       "      <td>200607</td>\n",
       "      <td>20060412</td>\n",
       "      <td>4</td>\n",
       "      <td>19</td>\n",
       "      <td>1</td>\n",
       "      <td>28</td>\n",
       "      <td>PRD0900353</td>\n",
       "      <td>CL00070</td>\n",
       "      <td>DEP00020</td>\n",
       "      <td>G00007</td>\n",
       "      <td>...</td>\n",
       "      <td>LA</td>\n",
       "      <td>YF</td>\n",
       "      <td>994100100532897</td>\n",
       "      <td>M</td>\n",
       "      <td>MM</td>\n",
       "      <td>Small Shop</td>\n",
       "      <td>Fresh</td>\n",
       "      <td>STORE00001</td>\n",
       "      <td>LS</td>\n",
       "      <td>E02</td>\n",
       "    </tr>\n",
       "    <tr>\n",
       "      <th>2</th>\n",
       "      <td>200607</td>\n",
       "      <td>20060413</td>\n",
       "      <td>5</td>\n",
       "      <td>20</td>\n",
       "      <td>3</td>\n",
       "      <td>84</td>\n",
       "      <td>PRD0900550</td>\n",
       "      <td>CL00167</td>\n",
       "      <td>DEP00055</td>\n",
       "      <td>G00016</td>\n",
       "      <td>...</td>\n",
       "      <td>LA</td>\n",
       "      <td>YF</td>\n",
       "      <td>994100100532898</td>\n",
       "      <td>L</td>\n",
       "      <td>LA</td>\n",
       "      <td>Top Up</td>\n",
       "      <td>Fresh</td>\n",
       "      <td>STORE00001</td>\n",
       "      <td>LS</td>\n",
       "      <td>E02</td>\n",
       "    </tr>\n",
       "    <tr>\n",
       "      <th>3</th>\n",
       "      <td>200607</td>\n",
       "      <td>20060412</td>\n",
       "      <td>4</td>\n",
       "      <td>19</td>\n",
       "      <td>1</td>\n",
       "      <td>221</td>\n",
       "      <td>PRD0901647</td>\n",
       "      <td>CL00010</td>\n",
       "      <td>DEP00003</td>\n",
       "      <td>G00002</td>\n",
       "      <td>...</td>\n",
       "      <td>LA</td>\n",
       "      <td>YF</td>\n",
       "      <td>994100100532897</td>\n",
       "      <td>M</td>\n",
       "      <td>MM</td>\n",
       "      <td>Small Shop</td>\n",
       "      <td>Fresh</td>\n",
       "      <td>STORE00001</td>\n",
       "      <td>LS</td>\n",
       "      <td>E02</td>\n",
       "    </tr>\n",
       "    <tr>\n",
       "      <th>4</th>\n",
       "      <td>200607</td>\n",
       "      <td>20060413</td>\n",
       "      <td>5</td>\n",
       "      <td>20</td>\n",
       "      <td>1</td>\n",
       "      <td>334</td>\n",
       "      <td>PRD0902064</td>\n",
       "      <td>CL00073</td>\n",
       "      <td>DEP00021</td>\n",
       "      <td>G00007</td>\n",
       "      <td>...</td>\n",
       "      <td>LA</td>\n",
       "      <td>YF</td>\n",
       "      <td>994100100532898</td>\n",
       "      <td>L</td>\n",
       "      <td>LA</td>\n",
       "      <td>Top Up</td>\n",
       "      <td>Fresh</td>\n",
       "      <td>STORE00001</td>\n",
       "      <td>LS</td>\n",
       "      <td>E02</td>\n",
       "    </tr>\n",
       "  </tbody>\n",
       "</table>\n",
       "<p>5 rows × 22 columns</p>\n",
       "</div>"
      ],
      "text/plain": [
       "   SHOP_WEEK  SHOP_DATE  SHOP_WEEKDAY  SHOP_HOUR  QUANTITY  SPEND   PROD_CODE  \\\n",
       "0     200607   20060413             5         20         1    103  PRD0900097   \n",
       "1     200607   20060412             4         19         1     28  PRD0900353   \n",
       "2     200607   20060413             5         20         3     84  PRD0900550   \n",
       "3     200607   20060412             4         19         1    221  PRD0901647   \n",
       "4     200607   20060413             5         20         1    334  PRD0902064   \n",
       "\n",
       "  PROD_CODE_10 PROD_CODE_20 PROD_CODE_30     ...      CUST_PRICE_SENSITIVITY  \\\n",
       "0      CL00001     DEP00001       G00001     ...                          LA   \n",
       "1      CL00070     DEP00020       G00007     ...                          LA   \n",
       "2      CL00167     DEP00055       G00016     ...                          LA   \n",
       "3      CL00010     DEP00003       G00002     ...                          LA   \n",
       "4      CL00073     DEP00021       G00007     ...                          LA   \n",
       "\n",
       "  CUST_LIFESTAGE        BASKET_ID BASKET_SIZE  BASKET_PRICE_SENSITIVITY  \\\n",
       "0             YF  994100100532898           L                        LA   \n",
       "1             YF  994100100532897           M                        MM   \n",
       "2             YF  994100100532898           L                        LA   \n",
       "3             YF  994100100532897           M                        MM   \n",
       "4             YF  994100100532898           L                        LA   \n",
       "\n",
       "  BASKET_TYPE BASKET_DOMINANT_MISSION  STORE_CODE STORE_FORMAT STORE_REGION  \n",
       "0      Top Up                   Fresh  STORE00001           LS          E02  \n",
       "1  Small Shop                   Fresh  STORE00001           LS          E02  \n",
       "2      Top Up                   Fresh  STORE00001           LS          E02  \n",
       "3  Small Shop                   Fresh  STORE00001           LS          E02  \n",
       "4      Top Up                   Fresh  STORE00001           LS          E02  \n",
       "\n",
       "[5 rows x 22 columns]"
      ]
     },
     "execution_count": 53,
     "metadata": {},
     "output_type": "execute_result"
    }
   ],
   "source": [
    "supermarket_data.head()"
   ]
  },
  {
   "cell_type": "code",
   "execution_count": null,
   "metadata": {},
   "outputs": [],
   "source": []
  },
  {
   "cell_type": "code",
   "execution_count": null,
   "metadata": {},
   "outputs": [],
   "source": []
  }
 ],
 "metadata": {
  "kernelspec": {
   "display_name": "Python 3",
   "language": "python",
   "name": "python3"
  },
  "language_info": {
   "codemirror_mode": {
    "name": "ipython",
    "version": 3
   },
   "file_extension": ".py",
   "mimetype": "text/x-python",
   "name": "python",
   "nbconvert_exporter": "python",
   "pygments_lexer": "ipython3",
   "version": "3.8.3"
  }
 },
 "nbformat": 4,
 "nbformat_minor": 2
}
