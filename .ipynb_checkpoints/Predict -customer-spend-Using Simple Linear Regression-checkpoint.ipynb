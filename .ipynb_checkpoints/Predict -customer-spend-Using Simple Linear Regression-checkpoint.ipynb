{
 "cells": [
  {
   "cell_type": "code",
   "execution_count": null,
   "metadata": {},
   "outputs": [],
   "source": []
  },
  {
   "cell_type": "markdown",
   "metadata": {},
   "source": [
    "Each of the row in the dataset corresponds to one unique product in a basket.\n",
    "\n",
    "The file has the below structures:\n",
    "\n",
    "\n",
    "| Column Names | Description| Type | Sample values |\n",
    "|---|---|---|---|\n",
    "|shop_week| Identifies the week of the basket| Char| Format YYYYWW where the first 4 characters identify the fiscal year and the other two characters identify the specific week within the year(e.g. 200375).Being the fiscal year, the first week doesnt start January |\n",
    "|shop_date| date when shopping  has been made. Dateis specified in the yyyymmdd format | Char | 20060413,20060412 |\n",
    "|shop_weekday| Identifies the day of the week | Num | 1=Sunday,2=Monday,...,7=Saturday |\n",
    "|shop_hour| Hour slot of the shopping | Num | 0=00:59, 1=01:59,...,23=23:00-2359|\n",
    "|Quantity | Number of the items of the same product bought in this basket | Num | Interger Number|\n",
    "|spend | spend associated to the items bought | Num | Number with decimals | "
   ]
  },
  {
   "cell_type": "markdown",
   "metadata": {},
   "source": [
    "## Importing required Libraries"
   ]
  },
  {
   "cell_type": "code",
   "execution_count": null,
   "metadata": {},
   "outputs": [],
   "source": []
  },
  {
   "cell_type": "code",
   "execution_count": 2,
   "metadata": {},
   "outputs": [],
   "source": [
    "#import the numpy $pandas\n",
    "import numpy as np\n",
    "import pandas as pd\n",
    "\n",
    "#Data Visualisation\n",
    "import matplotlib.pyplot as plt\n",
    "import seaborn as sns\n",
    "\n",
    "#Importing warnings\n",
    "import warnings\n",
    "\n",
    "#import statsmodel\n",
    "import statsmodels.formula.api as smf\n",
    "\n",
    "#import RMSE\n",
    "from statsmodels.tools.eval_measures import rmse\n",
    "\n",
    "#import Linear Regression from scikit-learn\n",
    "from sklearn.linear_model import LinearRegression \n",
    "from sklearn import metrics\n",
    "#configuration settings\n",
    "%matplotlib inline\n",
    "sns.set(color_codes=True)\n",
    "warnings.filterwarnings('ignore') ##supress warnings\n",
    "# Import the metrics\n",
    "from sklearn import metrics\n",
    "\n",
    "# Using Skicit-learn to split data into training and testing sets\n",
    "from sklearn.model_selection import train_test_split\n",
    "\n"
   ]
  },
  {
   "cell_type": "markdown",
   "metadata": {},
   "source": [
    "## Load the data into a dataframe"
   ]
  },
  {
   "cell_type": "code",
   "execution_count": 3,
   "metadata": {},
   "outputs": [
    {
     "data": {
      "text/html": [
       "<div>\n",
       "<style scoped>\n",
       "    .dataframe tbody tr th:only-of-type {\n",
       "        vertical-align: middle;\n",
       "    }\n",
       "\n",
       "    .dataframe tbody tr th {\n",
       "        vertical-align: top;\n",
       "    }\n",
       "\n",
       "    .dataframe thead th {\n",
       "        text-align: right;\n",
       "    }\n",
       "</style>\n",
       "<table border=\"1\" class=\"dataframe\">\n",
       "  <thead>\n",
       "    <tr style=\"text-align: right;\">\n",
       "      <th></th>\n",
       "      <th>SHOP_WEEK</th>\n",
       "      <th>SHOP_DATE</th>\n",
       "      <th>SHOP_WEEKDAY</th>\n",
       "      <th>SHOP_HOUR</th>\n",
       "      <th>QUANTITY</th>\n",
       "      <th>SPEND</th>\n",
       "      <th>PROD_CODE</th>\n",
       "      <th>PROD_CODE_10</th>\n",
       "      <th>PROD_CODE_20</th>\n",
       "      <th>PROD_CODE_30</th>\n",
       "      <th>...</th>\n",
       "      <th>CUST_PRICE_SENSITIVITY</th>\n",
       "      <th>CUST_LIFESTAGE</th>\n",
       "      <th>BASKET_ID</th>\n",
       "      <th>BASKET_SIZE</th>\n",
       "      <th>BASKET_PRICE_SENSITIVITY</th>\n",
       "      <th>BASKET_TYPE</th>\n",
       "      <th>BASKET_DOMINANT_MISSION</th>\n",
       "      <th>STORE_CODE</th>\n",
       "      <th>STORE_FORMAT</th>\n",
       "      <th>STORE_REGION</th>\n",
       "    </tr>\n",
       "  </thead>\n",
       "  <tbody>\n",
       "    <tr>\n",
       "      <th>0</th>\n",
       "      <td>200607</td>\n",
       "      <td>20060413</td>\n",
       "      <td>5</td>\n",
       "      <td>20</td>\n",
       "      <td>1</td>\n",
       "      <td>103</td>\n",
       "      <td>PRD0900097</td>\n",
       "      <td>CL00001</td>\n",
       "      <td>DEP00001</td>\n",
       "      <td>G00001</td>\n",
       "      <td>...</td>\n",
       "      <td>LA</td>\n",
       "      <td>YF</td>\n",
       "      <td>994100100532898</td>\n",
       "      <td>L</td>\n",
       "      <td>LA</td>\n",
       "      <td>Top Up</td>\n",
       "      <td>Fresh</td>\n",
       "      <td>STORE00001</td>\n",
       "      <td>LS</td>\n",
       "      <td>E02</td>\n",
       "    </tr>\n",
       "    <tr>\n",
       "      <th>1</th>\n",
       "      <td>200607</td>\n",
       "      <td>20060412</td>\n",
       "      <td>4</td>\n",
       "      <td>19</td>\n",
       "      <td>1</td>\n",
       "      <td>28</td>\n",
       "      <td>PRD0900353</td>\n",
       "      <td>CL00070</td>\n",
       "      <td>DEP00020</td>\n",
       "      <td>G00007</td>\n",
       "      <td>...</td>\n",
       "      <td>LA</td>\n",
       "      <td>YF</td>\n",
       "      <td>994100100532897</td>\n",
       "      <td>M</td>\n",
       "      <td>MM</td>\n",
       "      <td>Small Shop</td>\n",
       "      <td>Fresh</td>\n",
       "      <td>STORE00001</td>\n",
       "      <td>LS</td>\n",
       "      <td>E02</td>\n",
       "    </tr>\n",
       "    <tr>\n",
       "      <th>2</th>\n",
       "      <td>200607</td>\n",
       "      <td>20060413</td>\n",
       "      <td>5</td>\n",
       "      <td>20</td>\n",
       "      <td>3</td>\n",
       "      <td>84</td>\n",
       "      <td>PRD0900550</td>\n",
       "      <td>CL00167</td>\n",
       "      <td>DEP00055</td>\n",
       "      <td>G00016</td>\n",
       "      <td>...</td>\n",
       "      <td>LA</td>\n",
       "      <td>YF</td>\n",
       "      <td>994100100532898</td>\n",
       "      <td>L</td>\n",
       "      <td>LA</td>\n",
       "      <td>Top Up</td>\n",
       "      <td>Fresh</td>\n",
       "      <td>STORE00001</td>\n",
       "      <td>LS</td>\n",
       "      <td>E02</td>\n",
       "    </tr>\n",
       "    <tr>\n",
       "      <th>3</th>\n",
       "      <td>200607</td>\n",
       "      <td>20060412</td>\n",
       "      <td>4</td>\n",
       "      <td>19</td>\n",
       "      <td>1</td>\n",
       "      <td>221</td>\n",
       "      <td>PRD0901647</td>\n",
       "      <td>CL00010</td>\n",
       "      <td>DEP00003</td>\n",
       "      <td>G00002</td>\n",
       "      <td>...</td>\n",
       "      <td>LA</td>\n",
       "      <td>YF</td>\n",
       "      <td>994100100532897</td>\n",
       "      <td>M</td>\n",
       "      <td>MM</td>\n",
       "      <td>Small Shop</td>\n",
       "      <td>Fresh</td>\n",
       "      <td>STORE00001</td>\n",
       "      <td>LS</td>\n",
       "      <td>E02</td>\n",
       "    </tr>\n",
       "    <tr>\n",
       "      <th>4</th>\n",
       "      <td>200607</td>\n",
       "      <td>20060413</td>\n",
       "      <td>5</td>\n",
       "      <td>20</td>\n",
       "      <td>1</td>\n",
       "      <td>334</td>\n",
       "      <td>PRD0902064</td>\n",
       "      <td>CL00073</td>\n",
       "      <td>DEP00021</td>\n",
       "      <td>G00007</td>\n",
       "      <td>...</td>\n",
       "      <td>LA</td>\n",
       "      <td>YF</td>\n",
       "      <td>994100100532898</td>\n",
       "      <td>L</td>\n",
       "      <td>LA</td>\n",
       "      <td>Top Up</td>\n",
       "      <td>Fresh</td>\n",
       "      <td>STORE00001</td>\n",
       "      <td>LS</td>\n",
       "      <td>E02</td>\n",
       "    </tr>\n",
       "  </tbody>\n",
       "</table>\n",
       "<p>5 rows × 22 columns</p>\n",
       "</div>"
      ],
      "text/plain": [
       "   SHOP_WEEK  SHOP_DATE  SHOP_WEEKDAY  SHOP_HOUR  QUANTITY  SPEND   PROD_CODE  \\\n",
       "0     200607   20060413             5         20         1    103  PRD0900097   \n",
       "1     200607   20060412             4         19         1     28  PRD0900353   \n",
       "2     200607   20060413             5         20         3     84  PRD0900550   \n",
       "3     200607   20060412             4         19         1    221  PRD0901647   \n",
       "4     200607   20060413             5         20         1    334  PRD0902064   \n",
       "\n",
       "  PROD_CODE_10 PROD_CODE_20 PROD_CODE_30     ...      CUST_PRICE_SENSITIVITY  \\\n",
       "0      CL00001     DEP00001       G00001     ...                          LA   \n",
       "1      CL00070     DEP00020       G00007     ...                          LA   \n",
       "2      CL00167     DEP00055       G00016     ...                          LA   \n",
       "3      CL00010     DEP00003       G00002     ...                          LA   \n",
       "4      CL00073     DEP00021       G00007     ...                          LA   \n",
       "\n",
       "  CUST_LIFESTAGE        BASKET_ID BASKET_SIZE  BASKET_PRICE_SENSITIVITY  \\\n",
       "0             YF  994100100532898           L                        LA   \n",
       "1             YF  994100100532897           M                        MM   \n",
       "2             YF  994100100532898           L                        LA   \n",
       "3             YF  994100100532897           M                        MM   \n",
       "4             YF  994100100532898           L                        LA   \n",
       "\n",
       "  BASKET_TYPE BASKET_DOMINANT_MISSION  STORE_CODE STORE_FORMAT STORE_REGION  \n",
       "0      Top Up                   Fresh  STORE00001           LS          E02  \n",
       "1  Small Shop                   Fresh  STORE00001           LS          E02  \n",
       "2      Top Up                   Fresh  STORE00001           LS          E02  \n",
       "3  Small Shop                   Fresh  STORE00001           LS          E02  \n",
       "4      Top Up                   Fresh  STORE00001           LS          E02  \n",
       "\n",
       "[5 rows x 22 columns]"
      ]
     },
     "execution_count": 3,
     "metadata": {},
     "output_type": "execute_result"
    }
   ],
   "source": [
    "#load a data into dataframe called supermarket_till_transactions_df\n",
    "supermarket_till_transactions_df=pd.read_csv('supermarket_till_transactions.csv')\n",
    "supermarket_till_transactions_df.head(5)"
   ]
  },
  {
   "cell_type": "markdown",
   "metadata": {},
   "source": [
    "In order to illustrate Simple Linear regression we just need two variables  which are:\n",
    "      1.Shop_weekday\n",
    "      2.Spend"
   ]
  },
  {
   "cell_type": "code",
   "execution_count": 4,
   "metadata": {},
   "outputs": [
    {
     "data": {
      "text/html": [
       "<div>\n",
       "<style scoped>\n",
       "    .dataframe tbody tr th:only-of-type {\n",
       "        vertical-align: middle;\n",
       "    }\n",
       "\n",
       "    .dataframe tbody tr th {\n",
       "        vertical-align: top;\n",
       "    }\n",
       "\n",
       "    .dataframe thead th {\n",
       "        text-align: right;\n",
       "    }\n",
       "</style>\n",
       "<table border=\"1\" class=\"dataframe\">\n",
       "  <thead>\n",
       "    <tr style=\"text-align: right;\">\n",
       "      <th></th>\n",
       "      <th>SPEND</th>\n",
       "      <th>QUANTITY</th>\n",
       "    </tr>\n",
       "  </thead>\n",
       "  <tbody>\n",
       "    <tr>\n",
       "      <th>0</th>\n",
       "      <td>103</td>\n",
       "      <td>1</td>\n",
       "    </tr>\n",
       "    <tr>\n",
       "      <th>1</th>\n",
       "      <td>28</td>\n",
       "      <td>1</td>\n",
       "    </tr>\n",
       "    <tr>\n",
       "      <th>2</th>\n",
       "      <td>84</td>\n",
       "      <td>3</td>\n",
       "    </tr>\n",
       "    <tr>\n",
       "      <th>3</th>\n",
       "      <td>221</td>\n",
       "      <td>1</td>\n",
       "    </tr>\n",
       "    <tr>\n",
       "      <th>4</th>\n",
       "      <td>334</td>\n",
       "      <td>1</td>\n",
       "    </tr>\n",
       "  </tbody>\n",
       "</table>\n",
       "</div>"
      ],
      "text/plain": [
       "   SPEND  QUANTITY\n",
       "0    103         1\n",
       "1     28         1\n",
       "2     84         3\n",
       "3    221         1\n",
       "4    334         1"
      ]
     },
     "execution_count": 4,
     "metadata": {},
     "output_type": "execute_result"
    }
   ],
   "source": [
    "supermarket_till_transactions_df=supermarket_till_transactions_df[[\"SPEND\",\"QUANTITY\",'PROD_CODE_40','']]\n",
    "supermarket_till_transactions_df.head(5)"
   ]
  },
  {
   "cell_type": "code",
   "execution_count": null,
   "metadata": {},
   "outputs": [],
   "source": []
  },
  {
   "cell_type": "code",
   "execution_count": null,
   "metadata": {},
   "outputs": [],
   "source": []
  },
  {
   "cell_type": "markdown",
   "metadata": {},
   "source": [
    "<font color=green>***Estimation of paramater in the model we will using the ordinary least squares***</font>"
   ]
  },
  {
   "cell_type": "markdown",
   "metadata": {},
   "source": [
    "## Ordinary Least squares(OLS)"
   ]
  },
  {
   "cell_type": "markdown",
   "metadata": {},
   "source": [
    "In simple linear regression we have a relationship between response/input/dependent variable,Y and one Independent/predictor/input variable.\n",
    "\n"
   ]
  },
  {
   "cell_type": "markdown",
   "metadata": {},
   "source": [
    "![caption](files/images/1.png)"
   ]
  },
  {
   "cell_type": "markdown",
   "metadata": {},
   "source": [
    "We now calculate our beta and alpha using the following formulas\n",
    "![caption](files/images/2.png)\n",
    "![caption](files/images/3.png)"
   ]
  },
  {
   "cell_type": "code",
   "execution_count": 5,
   "metadata": {},
   "outputs": [
    {
     "data": {
      "text/html": [
       "<div>\n",
       "<style scoped>\n",
       "    .dataframe tbody tr th:only-of-type {\n",
       "        vertical-align: middle;\n",
       "    }\n",
       "\n",
       "    .dataframe tbody tr th {\n",
       "        vertical-align: top;\n",
       "    }\n",
       "\n",
       "    .dataframe thead th {\n",
       "        text-align: right;\n",
       "    }\n",
       "</style>\n",
       "<table border=\"1\" class=\"dataframe\">\n",
       "  <thead>\n",
       "    <tr style=\"text-align: right;\">\n",
       "      <th></th>\n",
       "      <th>SPEND</th>\n",
       "      <th>QUANTITY</th>\n",
       "    </tr>\n",
       "  </thead>\n",
       "  <tbody>\n",
       "    <tr>\n",
       "      <th>0</th>\n",
       "      <td>103</td>\n",
       "      <td>1</td>\n",
       "    </tr>\n",
       "    <tr>\n",
       "      <th>1</th>\n",
       "      <td>28</td>\n",
       "      <td>1</td>\n",
       "    </tr>\n",
       "    <tr>\n",
       "      <th>2</th>\n",
       "      <td>84</td>\n",
       "      <td>3</td>\n",
       "    </tr>\n",
       "    <tr>\n",
       "      <th>3</th>\n",
       "      <td>221</td>\n",
       "      <td>1</td>\n",
       "    </tr>\n",
       "  </tbody>\n",
       "</table>\n",
       "</div>"
      ],
      "text/plain": [
       "   SPEND  QUANTITY\n",
       "0    103         1\n",
       "1     28         1\n",
       "2     84         3\n",
       "3    221         1"
      ]
     },
     "execution_count": 5,
     "metadata": {},
     "output_type": "execute_result"
    }
   ],
   "source": [
    "supermarket_till_transactions_df.head(4)"
   ]
  },
  {
   "cell_type": "code",
   "execution_count": 6,
   "metadata": {},
   "outputs": [],
   "source": [
    "x=supermarket_till_transactions_df[\"QUANTITY\"]\n",
    "y=supermarket_till_transactions_df[\"SPEND\"]\n",
    "\n",
    "#calculating the means for x and y\n",
    "xmean=np.mean(x)\n",
    "ymean=np.mean(y)\n",
    "\n",
    "#calculate the terms needed for the numerator and denominator of beta\n",
    "supermarket_till_transactions_df['xycov']=(supermarket_till_transactions_df['QUANTITY'] - xmean)*(supermarket_till_transactions_df['SPEND'] - ymean)\n",
    "supermarket_till_transactions_df['xvar']=(supermarket_till_transactions_df['QUANTITY'] - xmean)**2\n",
    "\n",
    "#calculate beta and alpha\n",
    "beta=supermarket_till_transactions_df['xycov'].sum()/supermarket_till_transactions_df['xvar'].sum();\n",
    "alpha=ymean-(beta*xmean)"
   ]
  },
  {
   "cell_type": "code",
   "execution_count": 7,
   "metadata": {},
   "outputs": [
    {
     "name": "stdout",
     "output_type": "stream",
     "text": [
      "alpha = 128.74468085106386\n",
      "beta= 49.157683215130014\n"
     ]
    }
   ],
   "source": [
    "#View the alpha and beta values\n",
    "print( f'alpha = {alpha}')\n",
    "print(f'beta= {beta}')\n"
   ]
  },
  {
   "cell_type": "code",
   "execution_count": 8,
   "metadata": {},
   "outputs": [
    {
     "data": {
      "text/plain": [
       "0    177.902364\n",
       "1    177.902364\n",
       "2    276.217730\n",
       "3    177.902364\n",
       "4    177.902364\n",
       "Name: QUANTITY, dtype: float64"
      ]
     },
     "execution_count": 8,
     "metadata": {},
     "output_type": "execute_result"
    }
   ],
   "source": [
    "ypred=alpha + beta*x\n",
    "ypred.head()"
   ]
  },
  {
   "cell_type": "markdown",
   "metadata": {},
   "source": [
    "Now lets plot our prediction ypred against the actual values of y, to get a better visual understanding of the model"
   ]
  },
  {
   "cell_type": "code",
   "execution_count": 9,
   "metadata": {},
   "outputs": [
    {
     "data": {
      "image/png": "[encoded data removed]",
      "text/plain": [
       "<Figure size 864x432 with 1 Axes>"
      ]
     },
     "metadata": {
      "needs_background": "light"
     },
     "output_type": "display_data"
    }
   ],
   "source": [
    "# Plot regression against actual values\n",
    "plt.figure(figsize=(12,6))\n",
    "plt.plot(x,ypred)   #the regression line\n",
    "plt.plot(x,y,'ro')  #scatter plot showing actual values\n",
    "plt.title(\"Actual vs Predicted\")\n",
    "\n",
    "plt.xlabel('X')\n",
    "plt.ylabel('Y')\n",
    "\n",
    "plt.show()"
   ]
  },
  {
   "cell_type": "code",
   "execution_count": 10,
   "metadata": {},
   "outputs": [
    {
     "data": {
      "text/plain": [
       "<matplotlib.axes._subplots.AxesSubplot at 0x18a5bd59eb8>"
      ]
     },
     "execution_count": 10,
     "metadata": {},
     "output_type": "execute_result"
    },
    {
     "data": {
      "image/png": "[encoded data removed]",
      "text/plain": [
       "<Figure size 432x288 with 1 Axes>"
      ]
     },
     "metadata": {
      "needs_background": "light"
     },
     "output_type": "display_data"
    }
   ],
   "source": [
    "sns.boxplot(x=supermarket_till_transactions_df[\"QUANTITY\"])"
   ]
  },
  {
   "cell_type": "markdown",
   "metadata": {},
   "source": [
    "## Using statsmodel"
   ]
  },
  {
   "cell_type": "code",
   "execution_count": 11,
   "metadata": {},
   "outputs": [
    {
     "data": {
      "text/plain": [
       "<matplotlib.axes._subplots.AxesSubplot at 0x18a5bdc0da0>"
      ]
     },
     "execution_count": 11,
     "metadata": {},
     "output_type": "execute_result"
    },
    {
     "data": {
      "image/png": "[encoded data removed]",
      "text/plain": [
       "<Figure size 432x288 with 1 Axes>"
      ]
     },
     "metadata": {
      "needs_background": "light"
     },
     "output_type": "display_data"
    }
   ],
   "source": [
    "sns.boxplot(x=supermarket_till_transactions_df[\"SPEND\"])"
   ]
  },
  {
   "cell_type": "code",
   "execution_count": 12,
   "metadata": {},
   "outputs": [
    {
     "data": {
      "text/html": [
       "<div>\n",
       "<style scoped>\n",
       "    .dataframe tbody tr th:only-of-type {\n",
       "        vertical-align: middle;\n",
       "    }\n",
       "\n",
       "    .dataframe tbody tr th {\n",
       "        vertical-align: top;\n",
       "    }\n",
       "\n",
       "    .dataframe thead th {\n",
       "        text-align: right;\n",
       "    }\n",
       "</style>\n",
       "<table border=\"1\" class=\"dataframe\">\n",
       "  <thead>\n",
       "    <tr style=\"text-align: right;\">\n",
       "      <th></th>\n",
       "      <th>SPEND</th>\n",
       "      <th>QUANTITY</th>\n",
       "      <th>xycov</th>\n",
       "      <th>xvar</th>\n",
       "    </tr>\n",
       "  </thead>\n",
       "  <tbody>\n",
       "    <tr>\n",
       "      <th>SPEND</th>\n",
       "      <td>1.000000</td>\n",
       "      <td>0.242508</td>\n",
       "      <td>0.483157</td>\n",
       "      <td>0.101468</td>\n",
       "    </tr>\n",
       "    <tr>\n",
       "      <th>QUANTITY</th>\n",
       "      <td>0.242508</td>\n",
       "      <td>1.000000</td>\n",
       "      <td>0.294591</td>\n",
       "      <td>0.829096</td>\n",
       "    </tr>\n",
       "    <tr>\n",
       "      <th>xycov</th>\n",
       "      <td>0.483157</td>\n",
       "      <td>0.294591</td>\n",
       "      <td>1.000000</td>\n",
       "      <td>0.194961</td>\n",
       "    </tr>\n",
       "    <tr>\n",
       "      <th>xvar</th>\n",
       "      <td>0.101468</td>\n",
       "      <td>0.829096</td>\n",
       "      <td>0.194961</td>\n",
       "      <td>1.000000</td>\n",
       "    </tr>\n",
       "  </tbody>\n",
       "</table>\n",
       "</div>"
      ],
      "text/plain": [
       "             SPEND  QUANTITY     xycov      xvar\n",
       "SPEND     1.000000  0.242508  0.483157  0.101468\n",
       "QUANTITY  0.242508  1.000000  0.294591  0.829096\n",
       "xycov     0.483157  0.294591  1.000000  0.194961\n",
       "xvar      0.101468  0.829096  0.194961  1.000000"
      ]
     },
     "execution_count": 12,
     "metadata": {},
     "output_type": "execute_result"
    },
    {
     "data": {
      "image/png": "[encoded data removed]",
      "text/plain": [
       "<Figure size 720x360 with 2 Axes>"
      ]
     },
     "metadata": {
      "needs_background": "light"
     },
     "output_type": "display_data"
    }
   ],
   "source": [
    "plt.figure(figsize=(10,5))\n",
    "C=supermarket_till_transactions_df.corr()\n",
    "sns.heatmap(C,cmap=\"BrBG\",annot=True)\n",
    "C"
   ]
  },
  {
   "cell_type": "code",
   "execution_count": 13,
   "metadata": {},
   "outputs": [],
   "source": [
    "stats_model=smf.ols('SPEND ~ QUANTITY ',data=supermarket_till_transactions_df)\n",
    "stats_model=stats_model.fit()"
   ]
  },
  {
   "cell_type": "markdown",
   "metadata": {},
   "source": [
    "We dont have to calculate our beta and alpha ourselves as this method does it automatically  for us\n",
    "model.params"
   ]
  },
  {
   "cell_type": "code",
   "execution_count": 14,
   "metadata": {},
   "outputs": [
    {
     "data": {
      "text/plain": [
       "Intercept    128.744681\n",
       "QUANTITY      49.157683\n",
       "dtype: float64"
      ]
     },
     "execution_count": 14,
     "metadata": {},
     "output_type": "execute_result"
    }
   ],
   "source": [
    "stats_model.params"
   ]
  },
  {
   "cell_type": "code",
   "execution_count": null,
   "metadata": {},
   "outputs": [],
   "source": []
  },
  {
   "cell_type": "code",
   "execution_count": 15,
   "metadata": {},
   "outputs": [
    {
     "data": {
      "text/html": [
       "<table class=\"simpletable\">\n",
       "<caption>OLS Regression Results</caption>\n",
       "<tr>\n",
       "  <th>Dep. Variable:</th>          <td>SPEND</td>      <th>  R-squared:         </th> <td>   0.059</td>\n",
       "</tr>\n",
       "<tr>\n",
       "  <th>Model:</th>                   <td>OLS</td>       <th>  Adj. R-squared:    </th> <td>   0.051</td>\n",
       "</tr>\n",
       "<tr>\n",
       "  <th>Method:</th>             <td>Least Squares</td>  <th>  F-statistic:       </th> <td>   7.311</td>\n",
       "</tr>\n",
       "<tr>\n",
       "  <th>Date:</th>             <td>Sat, 07 Mar 2020</td> <th>  Prob (F-statistic):</th>  <td>0.00788</td>\n",
       "</tr>\n",
       "<tr>\n",
       "  <th>Time:</th>                 <td>19:01:56</td>     <th>  Log-Likelihood:    </th> <td> -821.21</td>\n",
       "</tr>\n",
       "<tr>\n",
       "  <th>No. Observations:</th>      <td>   119</td>      <th>  AIC:               </th> <td>   1646.</td>\n",
       "</tr>\n",
       "<tr>\n",
       "  <th>Df Residuals:</th>          <td>   117</td>      <th>  BIC:               </th> <td>   1652.</td>\n",
       "</tr>\n",
       "<tr>\n",
       "  <th>Df Model:</th>              <td>     1</td>      <th>                     </th>     <td> </td>   \n",
       "</tr>\n",
       "<tr>\n",
       "  <th>Covariance Type:</th>      <td>nonrobust</td>    <th>                     </th>     <td> </td>   \n",
       "</tr>\n",
       "</table>\n",
       "<table class=\"simpletable\">\n",
       "<tr>\n",
       "      <td></td>         <th>coef</th>     <th>std err</th>      <th>t</th>      <th>P>|t|</th>  <th>[0.025</th>    <th>0.975]</th>  \n",
       "</tr>\n",
       "<tr>\n",
       "  <th>Intercept</th> <td>  128.7447</td> <td>   35.354</td> <td>    3.642</td> <td> 0.000</td> <td>   58.727</td> <td>  198.762</td>\n",
       "</tr>\n",
       "<tr>\n",
       "  <th>QUANTITY</th>  <td>   49.1577</td> <td>   18.181</td> <td>    2.704</td> <td> 0.008</td> <td>   13.152</td> <td>   85.164</td>\n",
       "</tr>\n",
       "</table>\n",
       "<table class=\"simpletable\">\n",
       "<tr>\n",
       "  <th>Omnibus:</th>       <td>128.774</td> <th>  Durbin-Watson:     </th> <td>   1.957</td>\n",
       "</tr>\n",
       "<tr>\n",
       "  <th>Prob(Omnibus):</th> <td> 0.000</td>  <th>  Jarque-Bera (JB):  </th> <td>2007.509</td>\n",
       "</tr>\n",
       "<tr>\n",
       "  <th>Skew:</th>          <td> 3.877</td>  <th>  Prob(JB):          </th> <td>    0.00</td>\n",
       "</tr>\n",
       "<tr>\n",
       "  <th>Kurtosis:</th>      <td>21.568</td>  <th>  Cond. No.          </th> <td>    3.64</td>\n",
       "</tr>\n",
       "</table><br/><br/>Warnings:<br/>[1] Standard Errors assume that the covariance matrix of the errors is correctly specified."
      ],
      "text/plain": [
       "<class 'statsmodels.iolib.summary.Summary'>\n",
       "\"\"\"\n",
       "                            OLS Regression Results                            \n",
       "==============================================================================\n",
       "Dep. Variable:                  SPEND   R-squared:                       0.059\n",
       "Model:                            OLS   Adj. R-squared:                  0.051\n",
       "Method:                 Least Squares   F-statistic:                     7.311\n",
       "Date:                Sat, 07 Mar 2020   Prob (F-statistic):            0.00788\n",
       "Time:                        19:01:56   Log-Likelihood:                -821.21\n",
       "No. Observations:                 119   AIC:                             1646.\n",
       "Df Residuals:                     117   BIC:                             1652.\n",
       "Df Model:                           1                                         \n",
       "Covariance Type:            nonrobust                                         \n",
       "==============================================================================\n",
       "                 coef    std err          t      P>|t|      [0.025      0.975]\n",
       "------------------------------------------------------------------------------\n",
       "Intercept    128.7447     35.354      3.642      0.000      58.727     198.762\n",
       "QUANTITY      49.1577     18.181      2.704      0.008      13.152      85.164\n",
       "==============================================================================\n",
       "Omnibus:                      128.774   Durbin-Watson:                   1.957\n",
       "Prob(Omnibus):                  0.000   Jarque-Bera (JB):             2007.509\n",
       "Skew:                           3.877   Prob(JB):                         0.00\n",
       "Kurtosis:                      21.568   Cond. No.                         3.64\n",
       "==============================================================================\n",
       "\n",
       "Warnings:\n",
       "[1] Standard Errors assume that the covariance matrix of the errors is correctly specified.\n",
       "\"\"\""
      ]
     },
     "execution_count": 15,
     "metadata": {},
     "output_type": "execute_result"
    }
   ],
   "source": [
    "stats_model.summary()"
   ]
  },
  {
   "cell_type": "markdown",
   "metadata": {},
   "source": [
    "## R squared"
   ]
  },
  {
   "cell_type": "markdown",
   "metadata": {},
   "source": [
    "**The coefficient determination,R-squared**- This is used to measure how much of the variation in the\n",
    "outcome can be explained by the variation in the independent variables. R-Squared always increases as more\n",
    "predictors are added to the MLR model even though the predictors may not be related to the outcome variable."
   ]
  },
  {
   "cell_type": "code",
   "execution_count": 16,
   "metadata": {},
   "outputs": [
    {
     "data": {
      "text/plain": [
       "0.058810112747244125"
      ]
     },
     "execution_count": 16,
     "metadata": {},
     "output_type": "execute_result"
    }
   ],
   "source": [
    "#print the R-Squared value for the model\n",
    "stats_model.rsquared"
   ]
  },
  {
   "cell_type": "markdown",
   "metadata": {},
   "source": [
    "<font color=red>This means that 2.33% of spend is explained by shop_weekday, while 97.67% is unexplained.</font>"
   ]
  },
  {
   "cell_type": "markdown",
   "metadata": {},
   "source": [
    "## Adjusted R-Squared"
   ]
  },
  {
   "cell_type": "markdown",
   "metadata": {},
   "source": [
    "When we add more predictor variables into the equation, R-Squared will always increase making R-Squared\n",
    "not accurate as the number of predictor variables increases.\n",
    "Adjusted R-squared is a statistic that helps to determine whether variables should be included in the regression equation or not. As statistically insignificantly variable will increase R-squared but Adj-R2.\n",
    "It should be lower or equal to the R-Squared"
   ]
  },
  {
   "cell_type": "code",
   "execution_count": 17,
   "metadata": {},
   "outputs": [
    {
     "data": {
      "text/plain": [
       "0.05076575473653688"
      ]
     },
     "execution_count": 17,
     "metadata": {},
     "output_type": "execute_result"
    }
   ],
   "source": [
    "#print the Adjusted R-squared value for the model \n",
    "stats_model.rsquared_adj"
   ]
  },
  {
   "cell_type": "markdown",
   "metadata": {},
   "source": [
    "### Confidence Interval in the model"
   ]
  },
  {
   "cell_type": "markdown",
   "metadata": {},
   "source": [
    "A confidence interval is how much uncertainty there is with any particular statistic. Confidence intervals are\n",
    "often used with a margin of error. It tells you how confident you can be that the results reflect what you would\n",
    "expect to find if it were possible to study the entire population."
   ]
  },
  {
   "cell_type": "code",
   "execution_count": 18,
   "metadata": {},
   "outputs": [
    {
     "data": {
      "text/html": [
       "<div>\n",
       "<style scoped>\n",
       "    .dataframe tbody tr th:only-of-type {\n",
       "        vertical-align: middle;\n",
       "    }\n",
       "\n",
       "    .dataframe tbody tr th {\n",
       "        vertical-align: top;\n",
       "    }\n",
       "\n",
       "    .dataframe thead th {\n",
       "        text-align: right;\n",
       "    }\n",
       "</style>\n",
       "<table border=\"1\" class=\"dataframe\">\n",
       "  <thead>\n",
       "    <tr style=\"text-align: right;\">\n",
       "      <th></th>\n",
       "      <th>0</th>\n",
       "      <th>1</th>\n",
       "    </tr>\n",
       "  </thead>\n",
       "  <tbody>\n",
       "    <tr>\n",
       "      <th>Intercept</th>\n",
       "      <td>58.727080</td>\n",
       "      <td>198.762282</td>\n",
       "    </tr>\n",
       "    <tr>\n",
       "      <th>QUANTITY</th>\n",
       "      <td>13.151719</td>\n",
       "      <td>85.163648</td>\n",
       "    </tr>\n",
       "  </tbody>\n",
       "</table>\n",
       "</div>"
      ],
      "text/plain": [
       "                   0           1\n",
       "Intercept  58.727080  198.762282\n",
       "QUANTITY   13.151719   85.163648"
      ]
     },
     "execution_count": 18,
     "metadata": {},
     "output_type": "execute_result"
    }
   ],
   "source": [
    "#print the confidence intervals for the model coefficients\n",
    "stats_model.conf_int()"
   ]
  },
  {
   "cell_type": "markdown",
   "metadata": {},
   "source": [
    "### _Hypthesis testing and P-Value_"
   ]
  },
  {
   "cell_type": "code",
   "execution_count": 19,
   "metadata": {},
   "outputs": [
    {
     "data": {
      "text/plain": [
       "Intercept    0.000405\n",
       "QUANTITY     0.007877\n",
       "dtype: float64"
      ]
     },
     "execution_count": 19,
     "metadata": {},
     "output_type": "execute_result"
    }
   ],
   "source": [
    "stats_model.pvalues"
   ]
  },
  {
   "cell_type": "code",
   "execution_count": 20,
   "metadata": {},
   "outputs": [
    {
     "data": {
      "image/png": "[encoded data removed]",
      "text/plain": [
       "<Figure size 864x432 with 1 Axes>"
      ]
     },
     "metadata": {
      "needs_background": "light"
     },
     "output_type": "display_data"
    }
   ],
   "source": [
    "#Predict Values\n",
    "spend_pred=stats_model.predict()\n",
    "\n",
    "#plot regression against actual data\n",
    "plt.figure(figsize=(12,6))\n",
    "plt.plot(supermarket_till_transactions_df['QUANTITY'],supermarket_till_transactions_df['SPEND'],'o')\n",
    "plt.plot(supermarket_till_transactions_df['QUANTITY'],spend_pred,'r',linewidth=2)\n",
    "plt.xlabel('QUANTITY')\n",
    "plt.ylabel(\"SPEND\")\n",
    "plt.title('QUANTITY VS SPEND')\n",
    "\n",
    "\n",
    "plt.show()\n"
   ]
  },
  {
   "cell_type": "code",
   "execution_count": 21,
   "metadata": {},
   "outputs": [
    {
     "data": {
      "text/plain": [
       "0    177.902364\n",
       "dtype: float64"
      ]
     },
     "execution_count": 21,
     "metadata": {},
     "output_type": "execute_result"
    }
   ],
   "source": [
    "new_x=1\n",
    "ypred=stats_model.predict({\"QUANTITY\":new_x})\n",
    "ypred"
   ]
  },
  {
   "cell_type": "markdown",
   "metadata": {},
   "source": [
    "# _RMSE_"
   ]
  },
  {
   "cell_type": "markdown",
   "metadata": {},
   "source": [
    "The root-mean-square error (RMSE) is a frequently used measure of the differences between values (sample\n",
    "and population values) predicted by a model and the values actually observed\n",
    "The smaller the value the better"
   ]
  },
  {
   "cell_type": "code",
   "execution_count": 22,
   "metadata": {},
   "outputs": [
    {
     "data": {
      "text/plain": [
       "249.00544038248316"
      ]
     },
     "execution_count": 22,
     "metadata": {},
     "output_type": "execute_result"
    }
   ],
   "source": [
    "#calc rmse\n",
    "a_rmse=rmse(y,ypred)\n",
    "a_rmse"
   ]
  },
  {
   "cell_type": "code",
   "execution_count": 23,
   "metadata": {},
   "outputs": [],
   "source": [
    "X = supermarket_till_transactions_df[\"QUANTITY\"]\n",
    "y = supermarket_till_transactions_df[\"SPEND\"]"
   ]
  },
  {
   "cell_type": "code",
   "execution_count": 24,
   "metadata": {},
   "outputs": [],
   "source": [
    "# X2 = np.reshape(X, (-1,1))"
   ]
  },
  {
   "cell_type": "code",
   "execution_count": 25,
   "metadata": {},
   "outputs": [],
   "source": [
    "X_train, y_train, X_test, y_test = train_test_split(X, y, test_size=0.3, random_state=0)"
   ]
  },
  {
   "cell_type": "code",
   "execution_count": 26,
   "metadata": {},
   "outputs": [],
   "source": [
    "Linear_Regression_model = LinearRegression()\n"
   ]
  },
  {
   "cell_type": "code",
   "execution_count": 27,
   "metadata": {},
   "outputs": [],
   "source": [
    "# Linear_Regression_model.fit(X_train,y_train)"
   ]
  },
  {
   "cell_type": "code",
   "execution_count": null,
   "metadata": {},
   "outputs": [],
   "source": []
  }
 ],
 "metadata": {
  "kernelspec": {
   "display_name": "Python 3",
   "language": "python",
   "name": "python3"
  },
  "language_info": {
   "codemirror_mode": {
    "name": "ipython",
    "version": 3
   },
   "file_extension": ".py",
   "mimetype": "text/x-python",
   "name": "python",
   "nbconvert_exporter": "python",
   "pygments_lexer": "ipython3",
   "version": "3.7.1"
  }
 },
 "nbformat": 4,
 "nbformat_minor": 2
}
