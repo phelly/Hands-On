{
 "cells": [
  {
   "cell_type": "code",
   "execution_count": null,
   "metadata": {},
   "outputs": [],
   "source": [
    "import numpy as np\n",
    "import pandas as pd\n",
    "\n",
    "#data Visualisation\n",
    "import matplotlip.pyplot as plt\n",
    "import seaborn as sns\n",
    "\n",
    "\n",
    "#Imoport warnings\n",
    "import warnings\n",
    "\n",
    "#Import statsmodel\n",
    "import statsmodels.formula.api as smf\n",
    "\n",
    "\n",
    "#import the RMSE\n",
    "from statsmodels.tool.eval_measures import rmse\n",
    "\n",
    "\n",
    "#import decision tree Regressor\n",
    "from sklearn.tree import DecisionTreeRegressor\n",
    "\n",
    "#import train test split\n",
    "from sklearn.model_selection import GridSearchCV, cross_val_score, cross_val_predict\n",
    "\n",
    "\n",
    "#Feature scaling\n",
    "from sklearn.preprocessing import StandardScaler\n",
    "\n",
    "# Import the metrics \n",
    "from sklearn import metrics\n",
    "from sklearn.metrics import mean_squared_error, r2_score\n",
    "\n",
    "# import pre-processing\n",
    "from sklearn import preprocessing\n",
    "\n",
    "#configuration settings\n",
    "%matplotlib inline'\n",
    "sns.set(color_codes=True)\n",
    "warnings.filterwarnings('ignore')\n",
    "sns.set_style('whitegrid')\n",
    "sns.set_context('talk')\n",
    "params={\n",
    "    'legend.fontsize':'x-large',\n",
    "    'figure.figsize' :(30,10),\n",
    "    'axes.labelsize' : 'x-large'\n",
    "    'axes.titlesize' : 'x-large'\n",
    "    'xtick.labelsize' : 'x-large'\n",
    "    'ytick.labelsize' : 'x-large'\n",
    "}\n",
    "plt.rcParams.update(params)"
   ]
  },
  {
   "cell_type": "code",
   "execution_count": null,
   "metadata": {},
   "outputs": [],
   "source": [
    "#loading the data into dataframe as supermarketdata\n",
    "supermarket_data=pd.read_csv()\n",
    "supermarket_data.head(5)"
   ]
  },
  {
   "cell_type": "markdown",
   "metadata": {},
   "source": [
    "In order to illustrate Support Vector Regression we just need two variables which are:\n",
    "\n",
    "\n",
    " 1.SHOP_HOUR\n",
    " 2.SPEND"
   ]
  },
  {
   "cell_type": "code",
   "execution_count": null,
   "metadata": {},
   "outputs": [],
   "source": [
    "supermarket_data=supermarket_data[[\"SHOP_HOUR\",\"SPEND\"]]\n",
    "supermarket_data.head(5)"
   ]
  },
  {
   "cell_type": "code",
   "execution_count": null,
   "metadata": {},
   "outputs": [],
   "source": [
    "x=supermarket_data.iloc[:,:-1].values\n",
    "y=supermarket_data.iloc[:,:-1].values"
   ]
  },
  {
   "cell_type": "code",
   "execution_count": null,
   "metadata": {},
   "outputs": [],
   "source": [
    "#Divide the dataset into training and testing sets\n",
    "x,x_test,y,y_test = train_test_split(supermarket_data.iloc[ :, 0:1],\n",
    "                                     supermarket_data.ilo[:,: 1],\n",
    "                                     test_size = 0.33,\n",
    "                                     random_state=42\n",
    "                                    )\n",
    "\n",
    "#x.reset_index(inplace=True)\n",
    "#y =y.reset_index()\n",
    "\n",
    "#x_test.reset_index(inplace=True)\n",
    "#y_test = y_test.reset_index()\n"
   ]
  },
  {
   "cell_type": "code",
   "execution_count": null,
   "metadata": {},
   "outputs": [],
   "source": [
    "dtm = DecisionTreeRegressor(max_depth=4,\n",
    "                           min_samples_split=5,\n",
    "                           max_leaf_nodes=10)\n",
    "dtm.fit(x,y)\n",
    "print(\"R-Squared on train dataset={}\".format(dtm.score(x_test,y_test)))\n",
    "\n",
    "dtm.fit(x_test,y_test)\n",
    "print(\"R-Squared on test dataset ={}\".format(dtm.score(x_test,y_test)))"
   ]
  },
  {
   "cell_type": "markdown",
   "metadata": {},
   "source": [
    "### _Hyper-parameter tuning with GridSearchCV_"
   ]
  },
  {
   "cell_type": "code",
   "execution_count": null,
   "metadata": {},
   "outputs": [],
   "source": [
    "param_grid={\"criterion\": [\"mse\" , \"mae\"],\n",
    "            \"min_samples_split\" : [10, 20, 40],\n",
    "            \"max_depth\": [2, 6, 8],\n",
    "            \"min_samples_leaf\": [20, 40, 100],\n",
    "            \"max_leaf_nodes\" : [5, 20, 100]\n",
    "           }\n",
    "\n",
    "grid_cv_dtm = GridSearchCV(dtm,param_grid, cv=5)\n",
    "\n",
    "grid_cv_dtm.fit(x,y)"
   ]
  },
  {
   "cell_type": "code",
   "execution_count": null,
   "metadata": {},
   "outputs": [],
   "source": [
    "print(\"R-Squared::{}\".format(grid_cv_dtm.best_score_score_))\n",
    "print(\"Best Hyperparameters::\\n{}\".format(grid_cv_dtm.best_params_))"
   ]
  },
  {
   "cell_type": "code",
   "execution_count": null,
   "metadata": {},
   "outputs": [],
   "source": [
    "fig,ax = plt.subplots()\n",
    "sns.pointplot(data=df[['mean_test_score',\n",
    "                      'param_max_leaf_nodes',\n",
    "                      'param_max_depth']]\n",
    "             y='mean_test_score',x='param_max_depth',\n",
    "             hue='param_max_leaf_nodes',ax=ax)\n",
    "ax.set(title=\"Effect of depth and Leaf Nodes on Model Performance\")"
   ]
  },
  {
   "cell_type": "code",
   "execution_count": null,
   "metadata": {},
   "outputs": [],
   "source": [
    "#checking the training model scores \n",
    "r2_scores = cross_val_score(grid_cv_dtm.best_estimator_, x,y, cv=10)\n",
    "mse_scores = cross_val_score(grid_cv_dtm.best_estimator_,x,y, cv=10, scoring='neg_mean_sq')\n",
    "\n",
    "print(\"avg R-squared :: {:.3f}\".format(np.mean(r2_scores)))\n",
    "print(\"MSE :: {:.3f}\".format(np.mean(mse_scores)))\n"
   ]
  },
  {
   "cell_type": "code",
   "execution_count": null,
   "metadata": {},
   "outputs": [],
   "source": [
    "best_dtm_model = grid_cv_dtm.best_estimator_\n",
    "\n",
    "y_pred = best_dtm_model.predict(x_test)\n",
    "\n",
    "r2_scor = best_dtm_model.score(x_test,y_test)\n",
    "\n",
    "print(\"R-Squared:{:.3f}\".format(r2_score))\n",
    "print(\"MSE: %.2f\" % metrics.mean_squared_error(y_test, y_pred) )"
   ]
  }
 ],
 "metadata": {
  "kernelspec": {
   "display_name": "Python 3",
   "language": "python",
   "name": "python3"
  },
  "language_info": {
   "codemirror_mode": {
    "name": "ipython",
    "version": 3
   },
   "file_extension": ".py",
   "mimetype": "text/x-python",
   "name": "python",
   "nbconvert_exporter": "python",
   "pygments_lexer": "ipython3",
   "version": "3.7.1"
  }
 },
 "nbformat": 4,
 "nbformat_minor": 2
}
