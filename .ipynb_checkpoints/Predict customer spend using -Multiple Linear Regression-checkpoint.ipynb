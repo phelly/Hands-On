{
 "cells": [
  {
   "cell_type": "code",
   "execution_count": 2,
   "metadata": {},
   "outputs": [
    {
     "ename": "AttributeError",
     "evalue": "module 'warnings' has no attribute 'filterwanings'",
     "output_type": "error",
     "traceback": [
      "\u001b[1;31m---------------------------------------------------------------------------\u001b[0m",
      "\u001b[1;31mAttributeError\u001b[0m                            Traceback (most recent call last)",
      "\u001b[1;32m<ipython-input-2-8a2052fd21ef>\u001b[0m in \u001b[0;36m<module>\u001b[1;34m\u001b[0m\n\u001b[0;32m     28\u001b[0m \u001b[0mget_ipython\u001b[0m\u001b[1;33m(\u001b[0m\u001b[1;33m)\u001b[0m\u001b[1;33m.\u001b[0m\u001b[0mrun_line_magic\u001b[0m\u001b[1;33m(\u001b[0m\u001b[1;34m'matplotlib'\u001b[0m\u001b[1;33m,\u001b[0m \u001b[1;34m'inline'\u001b[0m\u001b[1;33m)\u001b[0m\u001b[1;33m\u001b[0m\u001b[1;33m\u001b[0m\u001b[0m\n\u001b[0;32m     29\u001b[0m \u001b[0msns\u001b[0m\u001b[1;33m.\u001b[0m\u001b[0mset\u001b[0m\u001b[1;33m(\u001b[0m\u001b[0mcolor_codes\u001b[0m\u001b[1;33m=\u001b[0m\u001b[1;32mTrue\u001b[0m\u001b[1;33m)\u001b[0m\u001b[1;33m\u001b[0m\u001b[1;33m\u001b[0m\u001b[0m\n\u001b[1;32m---> 30\u001b[1;33m \u001b[0mwarnings\u001b[0m\u001b[1;33m.\u001b[0m\u001b[0mfilterwanings\u001b[0m\u001b[1;33m(\u001b[0m\u001b[1;34m'ignore'\u001b[0m\u001b[1;33m)\u001b[0m \u001b[1;31m##surpress warnings\u001b[0m\u001b[1;33m\u001b[0m\u001b[1;33m\u001b[0m\u001b[0m\n\u001b[0m",
      "\u001b[1;31mAttributeError\u001b[0m: module 'warnings' has no attribute 'filterwanings'"
     ]
    }
   ],
   "source": [
    "#import required libraries\n",
    "import numpy as np\n",
    "import pandas as pd\n",
    "\n",
    "#Data Visualization\n",
    "import matplotlib.pyplot as plt\n",
    "import seaborn as sns\n",
    "\n",
    "#Import Warnings\n",
    "import warnings \n",
    "\n",
    "#import statsmodel\n",
    "import statsmodels.formula.api as smf\n",
    "\n",
    "#Import rmse\n",
    "from statsmodels.tools.eval_measures import rmse\n",
    "\n",
    "#import linear regression from scikit-learn\n",
    "from sklearn.linear_model import LinearRegression \n",
    "\n",
    "#import polynomial features\n",
    "from sklearn.preprocessing import PolynomialFeatures\n",
    "\n",
    "#import Metrics\n",
    "from sklearn.metrics import mean_squared_error,r2_score\n",
    "\n",
    "#configuration settings\n",
    "%matplotlib inline\n",
    "sns.set(color_codes=True)\n",
    "warnings.filterwanings('ignore') ##surpress warnings"
   ]
  },
  {
   "cell_type": "markdown",
   "metadata": {},
   "source": [
    "## Load the data into a dataframe"
   ]
  },
  {
   "cell_type": "code",
   "execution_count": null,
   "metadata": {},
   "outputs": [],
   "source": [
    "#load the data into the dataframe as supermarket_till_transcations_df\n",
    "supermarket_till_transcations_df=pd.read_csv('')\n",
    "supermarket_till_transcations_df.head(5)"
   ]
  },
  {
   "cell_type": "markdown",
   "metadata": {},
   "source": [
    "In order to illustrate Multiple linear  Regression we just need two variables which are:\n",
    "        1.SHOP_WEEKDAY\n",
    "        2.SHOP_TOUR\n",
    "        3.QUANTITY\n",
    "        4.SPEND"
   ]
  },
  {
   "cell_type": "code",
   "execution_count": null,
   "metadata": {},
   "outputs": [],
   "source": [
    "supermarket_till_transcations_df=supermarket_till_transcations_df['SHOP_WEEKDAY','SHOP_TOUR','QUANTITY','SPEND']\n",
    "supermarket_till_transcations_df.head(5)"
   ]
  },
  {
   "cell_type": "markdown",
   "metadata": {},
   "source": [
    "## Using statsmodel"
   ]
  },
  {
   "cell_type": "code",
   "execution_count": null,
   "metadata": {},
   "outputs": [],
   "source": []
  },
  {
   "cell_type": "code",
   "execution_count": null,
   "metadata": {},
   "outputs": [],
   "source": [
    "#Initialise and fit linear regression model using 'statsmodel'\n",
    "stats_model=smf.ols('SPEND ~ SHOP_WEEKDAY + SHOP_TOUR + QUANTITY',data=supermarket_till_transcations_df)\n",
    "stats_model=stats_model.fit()"
   ]
  },
  {
   "cell_type": "markdown",
   "metadata": {},
   "source": [
    "We now estimate the parameters using model.params "
   ]
  },
  {
   "cell_type": "code",
   "execution_count": null,
   "metadata": {},
   "outputs": [],
   "source": [
    "stats.model.params"
   ]
  },
  {
   "cell_type": "code",
   "execution_count": null,
   "metadata": {},
   "outputs": [],
   "source": [
    "#print a summary of the fiited model\n",
    "stats_model.summary()"
   ]
  },
  {
   "cell_type": "code",
   "execution_count": null,
   "metadata": {},
   "outputs": [],
   "source": [
    "#print the R-squared value of the model\n",
    "stats_model.rsquared"
   ]
  },
  {
   "cell_type": "code",
   "execution_count": null,
   "metadata": {},
   "outputs": [],
   "source": [
    "#to get the adj_rsquared value for the model\n",
    "stats_model.rsquared_adj"
   ]
  },
  {
   "cell_type": "markdown",
   "metadata": {},
   "source": [
    "## Perform the prediction"
   ]
  },
  {
   "cell_type": "code",
   "execution_count": null,
   "metadata": {},
   "outputs": [],
   "source": [
    "new_shop_weekday=1\n",
    "new_shop_tour= 18\n",
    "new_quantity= 2\n",
    "stats_model_ypred=stats_model.predict({\"SHOP_WEEKDAY\":new_shop_weekday,\"SHOP_TOUR\":new_shop_tour,\"QUANTITY\":new_quantity})\n"
   ]
  },
  {
   "cell_type": "markdown",
   "metadata": {},
   "source": [
    "## _RMSE_"
   ]
  },
  {
   "cell_type": "code",
   "execution_count": null,
   "metadata": {},
   "outputs": [],
   "source": [
    "#calc the rmse\n",
    "stats_model_rmse=rmse(y,stats_model_ypred)\n",
    "stats_model_rmse"
   ]
  },
  {
   "cell_type": "markdown",
   "metadata": {},
   "source": [
    "### Confidence Interval "
   ]
  },
  {
   "cell_type": "code",
   "execution_count": null,
   "metadata": {},
   "outputs": [],
   "source": [
    "#print the confidence interval for the model ceeficients\n",
    "stats_model.conf_int()"
   ]
  },
  {
   "cell_type": "markdown",
   "metadata": {},
   "source": [
    "### _Hypothesis testing and P-Values_"
   ]
  },
  {
   "cell_type": "code",
   "execution_count": null,
   "metadata": {},
   "outputs": [],
   "source": [
    "#print the p-values for the model coefficients\n",
    "stats_model.pvalues"
   ]
  },
  {
   "cell_type": "markdown",
   "metadata": {},
   "source": [
    "## _Using scikit-learn_ "
   ]
  },
  {
   "cell_type": "code",
   "execution_count": null,
   "metadata": {},
   "outputs": [],
   "source": [
    "#Build linear regression model using SHOP_WEEKDAY,SHOP_HOUR,QUANTITY predictors \n",
    "#Split data into predictors X and output Y\n",
    "predictors=['SHOP_WEEKDAY','SHOP_TOUR','QUANTITY']\n",
    "x = supermarket_till_transcations_df[predictors]\n",
    "y = supermarket_till_transcations_df['SPEND']\n",
    "\n",
    "\n",
    "#Intialise and fit model\n",
    "\n",
    "lm=LinearRegression()\n",
    "scikit_model=lm.fit(x,y)\n",
    "\n"
   ]
  },
  {
   "cell_type": "code",
   "execution_count": null,
   "metadata": {},
   "outputs": [],
   "source": [
    "print(f'alpha = {scikit_model.intercept_}')\n",
    "print(f'betas = {scikit_model.coef_}')"
   ]
  },
  {
   "cell_type": "markdown",
   "metadata": {},
   "source": [
    "Therefore, our model can be written as:\n",
    "\n",
    "\n",
    "SPEND=366.802 +(-SHOP_WEEKDAY) + (-SHOP_TOUR) + (QAUNTITY)\n",
    "We can predict values by simply using.predict():"
   ]
  },
  {
   "cell_type": "code",
   "execution_count": null,
   "metadata": {},
   "outputs": [],
   "source": [
    "new_x = [[1,18,2]] #Sunday 6pm buying 2 items\n",
    "scikit_learn_ypred = scikit_model.predict(new_x)"
   ]
  },
  {
   "cell_type": "markdown",
   "metadata": {},
   "source": [
    "### Calculate the RMSE when scikit learn is used"
   ]
  },
  {
   "cell_type": "code",
   "execution_count": null,
   "metadata": {},
   "outputs": [],
   "source": [
    "#calc rmse \n",
    "scikit_learn_rmse = rmse(y,scikit_learn_ypred)\n",
    "scikit_learn_rmse"
   ]
  },
  {
   "cell_type": "code",
   "execution_count": null,
   "metadata": {},
   "outputs": [],
   "source": []
  }
 ],
 "metadata": {
  "kernelspec": {
   "display_name": "Python 3",
   "language": "python",
   "name": "python3"
  },
  "language_info": {
   "codemirror_mode": {
    "name": "ipython",
    "version": 3
   },
   "file_extension": ".py",
   "mimetype": "text/x-python",
   "name": "python",
   "nbconvert_exporter": "python",
   "pygments_lexer": "ipython3",
   "version": "3.7.1"
  }
 },
 "nbformat": 4,
 "nbformat_minor": 2
}
