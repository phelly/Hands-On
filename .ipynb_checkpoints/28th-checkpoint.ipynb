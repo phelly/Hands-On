{
 "cells": [
  {
   "cell_type": "markdown",
   "metadata": {},
   "source": [
    "### Predict Which product a customer is likely to buy"
   ]
  },
  {
   "cell_type": "code",
   "execution_count": 18,
   "metadata": {},
   "outputs": [],
   "source": [
    "import numpy as np\n",
    "import pandas as pd\n",
    "import seaborn as sns\n",
    "import matplotlib.pyplot as plt\n",
    "\n",
    "%matplotlib inline\n",
    "\n",
    "sns.set()\n",
    "import warnings\n",
    "\n",
    "import math\n",
    "from collections import Counter\n",
    "from numpy import log\n"
   ]
  },
  {
   "cell_type": "code",
   "execution_count": 2,
   "metadata": {},
   "outputs": [
    {
     "data": {
      "text/html": [
       "<div>\n",
       "<style scoped>\n",
       "    .dataframe tbody tr th:only-of-type {\n",
       "        vertical-align: middle;\n",
       "    }\n",
       "\n",
       "    .dataframe tbody tr th {\n",
       "        vertical-align: top;\n",
       "    }\n",
       "\n",
       "    .dataframe thead th {\n",
       "        text-align: right;\n",
       "    }\n",
       "</style>\n",
       "<table border=\"1\" class=\"dataframe\">\n",
       "  <thead>\n",
       "    <tr style=\"text-align: right;\">\n",
       "      <th></th>\n",
       "      <th>SHOP_WEEK</th>\n",
       "      <th>SHOP_DATE</th>\n",
       "      <th>SHOP_WEEKDAY</th>\n",
       "      <th>SHOP_HOUR</th>\n",
       "      <th>QUANTITY</th>\n",
       "      <th>SPEND</th>\n",
       "      <th>PROD_CODE</th>\n",
       "      <th>PROD_CODE_10</th>\n",
       "      <th>PROD_CODE_20</th>\n",
       "      <th>PROD_CODE_30</th>\n",
       "      <th>...</th>\n",
       "      <th>CUST_PRICE_SENSITIVITY</th>\n",
       "      <th>CUST_LIFESTAGE</th>\n",
       "      <th>BASKET_ID</th>\n",
       "      <th>BASKET_SIZE</th>\n",
       "      <th>BASKET_PRICE_SENSITIVITY</th>\n",
       "      <th>BASKET_TYPE</th>\n",
       "      <th>BASKET_DOMINANT_MISSION</th>\n",
       "      <th>STORE_CODE</th>\n",
       "      <th>STORE_FORMAT</th>\n",
       "      <th>STORE_REGION</th>\n",
       "    </tr>\n",
       "  </thead>\n",
       "  <tbody>\n",
       "    <tr>\n",
       "      <th>22</th>\n",
       "      <td>200607</td>\n",
       "      <td>20060414</td>\n",
       "      <td>6</td>\n",
       "      <td>15</td>\n",
       "      <td>1</td>\n",
       "      <td>118</td>\n",
       "      <td>PRD0902555</td>\n",
       "      <td>CL00159</td>\n",
       "      <td>DEP00054</td>\n",
       "      <td>G00016</td>\n",
       "      <td>...</td>\n",
       "      <td>LA</td>\n",
       "      <td>OT</td>\n",
       "      <td>994100100206797</td>\n",
       "      <td>L</td>\n",
       "      <td>LA</td>\n",
       "      <td>Top Up</td>\n",
       "      <td>Fresh</td>\n",
       "      <td>STORE00002</td>\n",
       "      <td>LS</td>\n",
       "      <td>W01</td>\n",
       "    </tr>\n",
       "    <tr>\n",
       "      <th>59</th>\n",
       "      <td>200607</td>\n",
       "      <td>20060410</td>\n",
       "      <td>2</td>\n",
       "      <td>9</td>\n",
       "      <td>3</td>\n",
       "      <td>294</td>\n",
       "      <td>PRD0903351</td>\n",
       "      <td>CL00005</td>\n",
       "      <td>DEP00002</td>\n",
       "      <td>G00001</td>\n",
       "      <td>...</td>\n",
       "      <td>NaN</td>\n",
       "      <td>NaN</td>\n",
       "      <td>994100100014637</td>\n",
       "      <td>L</td>\n",
       "      <td>UM</td>\n",
       "      <td>Full Shop</td>\n",
       "      <td>Mixed</td>\n",
       "      <td>STORE00013</td>\n",
       "      <td>LS</td>\n",
       "      <td>N02</td>\n",
       "    </tr>\n",
       "    <tr>\n",
       "      <th>88</th>\n",
       "      <td>200607</td>\n",
       "      <td>20060412</td>\n",
       "      <td>4</td>\n",
       "      <td>13</td>\n",
       "      <td>1</td>\n",
       "      <td>28</td>\n",
       "      <td>PRD0904988</td>\n",
       "      <td>CL00214</td>\n",
       "      <td>DEP00071</td>\n",
       "      <td>G00022</td>\n",
       "      <td>...</td>\n",
       "      <td>NaN</td>\n",
       "      <td>NaN</td>\n",
       "      <td>994100100058515</td>\n",
       "      <td>L</td>\n",
       "      <td>UM</td>\n",
       "      <td>Top Up</td>\n",
       "      <td>Fresh</td>\n",
       "      <td>STORE00078</td>\n",
       "      <td>LS</td>\n",
       "      <td>S01</td>\n",
       "    </tr>\n",
       "    <tr>\n",
       "      <th>49</th>\n",
       "      <td>200607</td>\n",
       "      <td>20060410</td>\n",
       "      <td>2</td>\n",
       "      <td>9</td>\n",
       "      <td>1</td>\n",
       "      <td>391</td>\n",
       "      <td>PRD0900782</td>\n",
       "      <td>CL00086</td>\n",
       "      <td>DEP00024</td>\n",
       "      <td>G00007</td>\n",
       "      <td>...</td>\n",
       "      <td>NaN</td>\n",
       "      <td>NaN</td>\n",
       "      <td>994100100014637</td>\n",
       "      <td>L</td>\n",
       "      <td>UM</td>\n",
       "      <td>Full Shop</td>\n",
       "      <td>Mixed</td>\n",
       "      <td>STORE00013</td>\n",
       "      <td>LS</td>\n",
       "      <td>N02</td>\n",
       "    </tr>\n",
       "    <tr>\n",
       "      <th>115</th>\n",
       "      <td>200607</td>\n",
       "      <td>20060414</td>\n",
       "      <td>6</td>\n",
       "      <td>19</td>\n",
       "      <td>1</td>\n",
       "      <td>485</td>\n",
       "      <td>PRD0900114</td>\n",
       "      <td>CL00237</td>\n",
       "      <td>DEP00084</td>\n",
       "      <td>G00028</td>\n",
       "      <td>...</td>\n",
       "      <td>LA</td>\n",
       "      <td>OA</td>\n",
       "      <td>994100100540327</td>\n",
       "      <td>M</td>\n",
       "      <td>MM</td>\n",
       "      <td>Small Shop</td>\n",
       "      <td>Grocery</td>\n",
       "      <td>STORE02847</td>\n",
       "      <td>LS</td>\n",
       "      <td>N01</td>\n",
       "    </tr>\n",
       "    <tr>\n",
       "      <th>0</th>\n",
       "      <td>200607</td>\n",
       "      <td>20060413</td>\n",
       "      <td>5</td>\n",
       "      <td>20</td>\n",
       "      <td>1</td>\n",
       "      <td>103</td>\n",
       "      <td>PRD0900097</td>\n",
       "      <td>CL00001</td>\n",
       "      <td>DEP00001</td>\n",
       "      <td>G00001</td>\n",
       "      <td>...</td>\n",
       "      <td>LA</td>\n",
       "      <td>YF</td>\n",
       "      <td>994100100532898</td>\n",
       "      <td>L</td>\n",
       "      <td>LA</td>\n",
       "      <td>Top Up</td>\n",
       "      <td>Fresh</td>\n",
       "      <td>STORE00001</td>\n",
       "      <td>LS</td>\n",
       "      <td>E02</td>\n",
       "    </tr>\n",
       "  </tbody>\n",
       "</table>\n",
       "<p>6 rows × 22 columns</p>\n",
       "</div>"
      ],
      "text/plain": [
       "     SHOP_WEEK  SHOP_DATE  SHOP_WEEKDAY  SHOP_HOUR  QUANTITY  SPEND  \\\n",
       "22      200607   20060414             6         15         1    118   \n",
       "59      200607   20060410             2          9         3    294   \n",
       "88      200607   20060412             4         13         1     28   \n",
       "49      200607   20060410             2          9         1    391   \n",
       "115     200607   20060414             6         19         1    485   \n",
       "0       200607   20060413             5         20         1    103   \n",
       "\n",
       "      PROD_CODE PROD_CODE_10 PROD_CODE_20 PROD_CODE_30     ...       \\\n",
       "22   PRD0902555      CL00159     DEP00054       G00016     ...        \n",
       "59   PRD0903351      CL00005     DEP00002       G00001     ...        \n",
       "88   PRD0904988      CL00214     DEP00071       G00022     ...        \n",
       "49   PRD0900782      CL00086     DEP00024       G00007     ...        \n",
       "115  PRD0900114      CL00237     DEP00084       G00028     ...        \n",
       "0    PRD0900097      CL00001     DEP00001       G00001     ...        \n",
       "\n",
       "    CUST_PRICE_SENSITIVITY CUST_LIFESTAGE        BASKET_ID BASKET_SIZE  \\\n",
       "22                      LA             OT  994100100206797           L   \n",
       "59                     NaN            NaN  994100100014637           L   \n",
       "88                     NaN            NaN  994100100058515           L   \n",
       "49                     NaN            NaN  994100100014637           L   \n",
       "115                     LA             OA  994100100540327           M   \n",
       "0                       LA             YF  994100100532898           L   \n",
       "\n",
       "     BASKET_PRICE_SENSITIVITY BASKET_TYPE BASKET_DOMINANT_MISSION  STORE_CODE  \\\n",
       "22                         LA      Top Up                   Fresh  STORE00002   \n",
       "59                         UM   Full Shop                   Mixed  STORE00013   \n",
       "88                         UM      Top Up                   Fresh  STORE00078   \n",
       "49                         UM   Full Shop                   Mixed  STORE00013   \n",
       "115                        MM  Small Shop                 Grocery  STORE02847   \n",
       "0                          LA      Top Up                   Fresh  STORE00001   \n",
       "\n",
       "    STORE_FORMAT STORE_REGION  \n",
       "22            LS          W01  \n",
       "59            LS          N02  \n",
       "88            LS          S01  \n",
       "49            LS          N02  \n",
       "115           LS          N01  \n",
       "0             LS          E02  \n",
       "\n",
       "[6 rows x 22 columns]"
      ]
     },
     "execution_count": 2,
     "metadata": {},
     "output_type": "execute_result"
    }
   ],
   "source": [
    "#loading the datasets\n",
    "supermarket_df = pd.read_csv('supermarket_till_transactions.csv')\n",
    "supermarket_df.sample(6)"
   ]
  },
  {
   "cell_type": "markdown",
   "metadata": {},
   "source": [
    "## Descriptive Statistics"
   ]
  },
  {
   "cell_type": "code",
   "execution_count": 3,
   "metadata": {},
   "outputs": [
    {
     "data": {
      "text/plain": [
       "SHOP_WEEK                    0\n",
       "SHOP_DATE                    0\n",
       "SHOP_WEEKDAY                 0\n",
       "SHOP_HOUR                    0\n",
       "QUANTITY                     0\n",
       "SPEND                        0\n",
       "PROD_CODE                    0\n",
       "PROD_CODE_10                 0\n",
       "PROD_CODE_20                 0\n",
       "PROD_CODE_30                 0\n",
       "PROD_CODE_40                 0\n",
       "CUST_CODE                   46\n",
       "CUST_PRICE_SENSITIVITY      46\n",
       "CUST_LIFESTAGE              46\n",
       "BASKET_ID                    0\n",
       "BASKET_SIZE                  0\n",
       "BASKET_PRICE_SENSITIVITY     0\n",
       "BASKET_TYPE                  0\n",
       "BASKET_DOMINANT_MISSION      0\n",
       "STORE_CODE                   0\n",
       "STORE_FORMAT                 0\n",
       "STORE_REGION                 0\n",
       "dtype: int64"
      ]
     },
     "execution_count": 3,
     "metadata": {},
     "output_type": "execute_result"
    }
   ],
   "source": [
    "supermarket_df.isnull().sum()"
   ]
  },
  {
   "cell_type": "code",
   "execution_count": 4,
   "metadata": {},
   "outputs": [
    {
     "data": {
      "text/plain": [
       "SHOP_WEEK                    int64\n",
       "SHOP_DATE                    int64\n",
       "SHOP_WEEKDAY                 int64\n",
       "SHOP_HOUR                    int64\n",
       "QUANTITY                     int64\n",
       "SPEND                        int64\n",
       "PROD_CODE                   object\n",
       "PROD_CODE_10                object\n",
       "PROD_CODE_20                object\n",
       "PROD_CODE_30                object\n",
       "PROD_CODE_40                object\n",
       "CUST_CODE                   object\n",
       "CUST_PRICE_SENSITIVITY      object\n",
       "CUST_LIFESTAGE              object\n",
       "BASKET_ID                    int64\n",
       "BASKET_SIZE                 object\n",
       "BASKET_PRICE_SENSITIVITY    object\n",
       "BASKET_TYPE                 object\n",
       "BASKET_DOMINANT_MISSION     object\n",
       "STORE_CODE                  object\n",
       "STORE_FORMAT                object\n",
       "STORE_REGION                object\n",
       "dtype: object"
      ]
     },
     "execution_count": 4,
     "metadata": {},
     "output_type": "execute_result"
    }
   ],
   "source": [
    "supermarket_df.dtypes"
   ]
  },
  {
   "cell_type": "code",
   "execution_count": 5,
   "metadata": {},
   "outputs": [
    {
     "name": "stdout",
     "output_type": "stream",
     "text": [
      "number of duplicated rows: (0, 22)\n"
     ]
    }
   ],
   "source": [
    "#Dropping the duplicated columns\n",
    "duplicated_rows = supermarket_df[supermarket_df.duplicated()]\n",
    "print('number of duplicated rows:',duplicated_rows.shape)\n",
    "            "
   ]
  },
  {
   "cell_type": "code",
   "execution_count": 6,
   "metadata": {},
   "outputs": [],
   "source": [
    "supermarket_data = supermarket_df.drop(['SHOP_WEEK'],axis=1)"
   ]
  },
  {
   "cell_type": "code",
   "execution_count": 7,
   "metadata": {},
   "outputs": [
    {
     "data": {
      "text/html": [
       "<div>\n",
       "<style scoped>\n",
       "    .dataframe tbody tr th:only-of-type {\n",
       "        vertical-align: middle;\n",
       "    }\n",
       "\n",
       "    .dataframe tbody tr th {\n",
       "        vertical-align: top;\n",
       "    }\n",
       "\n",
       "    .dataframe thead th {\n",
       "        text-align: right;\n",
       "    }\n",
       "</style>\n",
       "<table border=\"1\" class=\"dataframe\">\n",
       "  <thead>\n",
       "    <tr style=\"text-align: right;\">\n",
       "      <th></th>\n",
       "      <th>SHOP_DATE</th>\n",
       "      <th>SHOP_WEEKDAY</th>\n",
       "      <th>SHOP_HOUR</th>\n",
       "      <th>QUANTITY</th>\n",
       "      <th>SPEND</th>\n",
       "      <th>BASKET_ID</th>\n",
       "    </tr>\n",
       "  </thead>\n",
       "  <tbody>\n",
       "    <tr>\n",
       "      <th>SHOP_DATE</th>\n",
       "      <td>1.000000</td>\n",
       "      <td>1.000000</td>\n",
       "      <td>0.330260</td>\n",
       "      <td>0.033619</td>\n",
       "      <td>-0.152796</td>\n",
       "      <td>0.401648</td>\n",
       "    </tr>\n",
       "    <tr>\n",
       "      <th>SHOP_WEEKDAY</th>\n",
       "      <td>1.000000</td>\n",
       "      <td>1.000000</td>\n",
       "      <td>0.330260</td>\n",
       "      <td>0.033619</td>\n",
       "      <td>-0.152796</td>\n",
       "      <td>0.401648</td>\n",
       "    </tr>\n",
       "    <tr>\n",
       "      <th>SHOP_HOUR</th>\n",
       "      <td>0.330260</td>\n",
       "      <td>0.330260</td>\n",
       "      <td>1.000000</td>\n",
       "      <td>0.089302</td>\n",
       "      <td>-0.208313</td>\n",
       "      <td>0.177927</td>\n",
       "    </tr>\n",
       "    <tr>\n",
       "      <th>QUANTITY</th>\n",
       "      <td>0.033619</td>\n",
       "      <td>0.033619</td>\n",
       "      <td>0.089302</td>\n",
       "      <td>1.000000</td>\n",
       "      <td>0.242508</td>\n",
       "      <td>0.064890</td>\n",
       "    </tr>\n",
       "    <tr>\n",
       "      <th>SPEND</th>\n",
       "      <td>-0.152796</td>\n",
       "      <td>-0.152796</td>\n",
       "      <td>-0.208313</td>\n",
       "      <td>0.242508</td>\n",
       "      <td>1.000000</td>\n",
       "      <td>-0.052028</td>\n",
       "    </tr>\n",
       "    <tr>\n",
       "      <th>BASKET_ID</th>\n",
       "      <td>0.401648</td>\n",
       "      <td>0.401648</td>\n",
       "      <td>0.177927</td>\n",
       "      <td>0.064890</td>\n",
       "      <td>-0.052028</td>\n",
       "      <td>1.000000</td>\n",
       "    </tr>\n",
       "  </tbody>\n",
       "</table>\n",
       "</div>"
      ],
      "text/plain": [
       "              SHOP_DATE  SHOP_WEEKDAY  SHOP_HOUR  QUANTITY     SPEND  \\\n",
       "SHOP_DATE      1.000000      1.000000   0.330260  0.033619 -0.152796   \n",
       "SHOP_WEEKDAY   1.000000      1.000000   0.330260  0.033619 -0.152796   \n",
       "SHOP_HOUR      0.330260      0.330260   1.000000  0.089302 -0.208313   \n",
       "QUANTITY       0.033619      0.033619   0.089302  1.000000  0.242508   \n",
       "SPEND         -0.152796     -0.152796  -0.208313  0.242508  1.000000   \n",
       "BASKET_ID      0.401648      0.401648   0.177927  0.064890 -0.052028   \n",
       "\n",
       "              BASKET_ID  \n",
       "SHOP_DATE      0.401648  \n",
       "SHOP_WEEKDAY   0.401648  \n",
       "SHOP_HOUR      0.177927  \n",
       "QUANTITY       0.064890  \n",
       "SPEND         -0.052028  \n",
       "BASKET_ID      1.000000  "
      ]
     },
     "execution_count": 7,
     "metadata": {},
     "output_type": "execute_result"
    },
    {
     "data": {
      "image/png": "[encoded data removed]",
      "text/plain": [
       "<Figure size 1440x720 with 2 Axes>"
      ]
     },
     "metadata": {
      "needs_background": "light"
     },
     "output_type": "display_data"
    }
   ],
   "source": [
    "#plotting the heatmaps\n",
    "plt.figure(figsize=(20,10))\n",
    "c=supermarket_data.corr()\n",
    "sns.heatmap(c,cmap=\"BrBG\",annot=True)\n",
    "c"
   ]
  },
  {
   "cell_type": "code",
   "execution_count": 8,
   "metadata": {},
   "outputs": [
    {
     "data": {
      "text/html": [
       "<div>\n",
       "<style scoped>\n",
       "    .dataframe tbody tr th:only-of-type {\n",
       "        vertical-align: middle;\n",
       "    }\n",
       "\n",
       "    .dataframe tbody tr th {\n",
       "        vertical-align: top;\n",
       "    }\n",
       "\n",
       "    .dataframe thead th {\n",
       "        text-align: right;\n",
       "    }\n",
       "</style>\n",
       "<table border=\"1\" class=\"dataframe\">\n",
       "  <thead>\n",
       "    <tr style=\"text-align: right;\">\n",
       "      <th></th>\n",
       "      <th>SPEND</th>\n",
       "      <th>QUANTITY</th>\n",
       "    </tr>\n",
       "  </thead>\n",
       "  <tbody>\n",
       "    <tr>\n",
       "      <th>count</th>\n",
       "      <td>119.000000</td>\n",
       "      <td>119.000000</td>\n",
       "    </tr>\n",
       "    <tr>\n",
       "      <th>mean</th>\n",
       "      <td>203.100840</td>\n",
       "      <td>1.512605</td>\n",
       "    </tr>\n",
       "    <tr>\n",
       "      <th>std</th>\n",
       "      <td>248.774637</td>\n",
       "      <td>1.227272</td>\n",
       "    </tr>\n",
       "    <tr>\n",
       "      <th>min</th>\n",
       "      <td>13.000000</td>\n",
       "      <td>1.000000</td>\n",
       "    </tr>\n",
       "    <tr>\n",
       "      <th>25%</th>\n",
       "      <td>74.500000</td>\n",
       "      <td>1.000000</td>\n",
       "    </tr>\n",
       "    <tr>\n",
       "      <th>50%</th>\n",
       "      <td>132.000000</td>\n",
       "      <td>1.000000</td>\n",
       "    </tr>\n",
       "    <tr>\n",
       "      <th>75%</th>\n",
       "      <td>241.000000</td>\n",
       "      <td>1.000000</td>\n",
       "    </tr>\n",
       "    <tr>\n",
       "      <th>max</th>\n",
       "      <td>1820.000000</td>\n",
       "      <td>9.000000</td>\n",
       "    </tr>\n",
       "  </tbody>\n",
       "</table>\n",
       "</div>"
      ],
      "text/plain": [
       "             SPEND    QUANTITY\n",
       "count   119.000000  119.000000\n",
       "mean    203.100840    1.512605\n",
       "std     248.774637    1.227272\n",
       "min      13.000000    1.000000\n",
       "25%      74.500000    1.000000\n",
       "50%     132.000000    1.000000\n",
       "75%     241.000000    1.000000\n",
       "max    1820.000000    9.000000"
      ]
     },
     "execution_count": 8,
     "metadata": {},
     "output_type": "execute_result"
    }
   ],
   "source": [
    "x2 = supermarket_data[['SPEND','QUANTITY']]\n",
    "x2.describe()\n"
   ]
  },
  {
   "cell_type": "markdown",
   "metadata": {},
   "source": [
    "## Inferential Statistics and Hypothesis"
   ]
  },
  {
   "cell_type": "markdown",
   "metadata": {},
   "source": [
    "We can say that, a sample of 100 people their average spending amount will be 200. Given the population average is 203.\n",
    "\n",
    "Thus :\n",
    "\n",
    " - Null Hypothesis: The average is equal to 200\n",
    "\n",
    " - Alternative hypothesis :The avarega is not equal to 200\n",
    " - Using 5% as significance level"
   ]
  },
  {
   "cell_type": "code",
   "execution_count": 9,
   "metadata": {},
   "outputs": [
    {
     "name": "stdout",
     "output_type": "stream",
     "text": [
      "203.10084033613447\n",
      "Pvalue 1.4737038853695829e-05\n",
      "t test 4.520948748613231\n"
     ]
    }
   ],
   "source": [
    "#Calculating T Test for \n",
    "from scipy.stats import ttest_1samp\n",
    "sh1=supermarket_data[\"SPEND\"]\n",
    "sh1_mean=sh1.mean()\n",
    "print(sh1_mean)\n",
    "\n",
    "tset, pval = ttest_1samp(sh1,100\n",
    "                        )\n",
    "print('Pvalue',pval)\n",
    "print('t test',tset)"
   ]
  },
  {
   "cell_type": "markdown",
   "metadata": {},
   "source": [
    "Since the pvalue is less than 0.05 thus we reject the null hypothesis.\n",
    "\n",
    " - We can also confirm this by test statictics and the critical value which is 1.96. Thus 4.5 > 1.96 we reject the null hypothesis.\n",
    "\n",
    " - THEREFORE THERE IS ENOUGH EVIDENCE TO INDICATE THAT THE AVERAGE SPEND PER DAY IS NOT EQUAL TO 200/= THUS WE REJECT THE CLAIM"
   ]
  },
  {
   "cell_type": "markdown",
   "metadata": {},
   "source": [
    "## Feature Extraction"
   ]
  },
  {
   "cell_type": "markdown",
   "metadata": {},
   "source": [
    "Predicting the product to be by a customer I use the following variables\n",
    " - "
   ]
  },
  {
   "cell_type": "markdown",
   "metadata": {},
   "source": [
    "_Data Visualisation_"
   ]
  },
  {
   "cell_type": "code",
   "execution_count": 10,
   "metadata": {},
   "outputs": [
    {
     "data": {
      "text/html": [
       "<div>\n",
       "<style scoped>\n",
       "    .dataframe tbody tr th:only-of-type {\n",
       "        vertical-align: middle;\n",
       "    }\n",
       "\n",
       "    .dataframe tbody tr th {\n",
       "        vertical-align: top;\n",
       "    }\n",
       "\n",
       "    .dataframe thead th {\n",
       "        text-align: right;\n",
       "    }\n",
       "</style>\n",
       "<table border=\"1\" class=\"dataframe\">\n",
       "  <thead>\n",
       "    <tr style=\"text-align: right;\">\n",
       "      <th></th>\n",
       "      <th>SHOP_HOUR</th>\n",
       "      <th>PROD_CODE_40</th>\n",
       "      <th>SHOP_WEEKDAY</th>\n",
       "      <th>CUST_LIFESTAGE</th>\n",
       "      <th>SPEND</th>\n",
       "      <th>QUANTITY</th>\n",
       "    </tr>\n",
       "  </thead>\n",
       "  <tbody>\n",
       "    <tr>\n",
       "      <th>42</th>\n",
       "      <td>8</td>\n",
       "      <td>D00001</td>\n",
       "      <td>5</td>\n",
       "      <td>OT</td>\n",
       "      <td>122</td>\n",
       "      <td>1</td>\n",
       "    </tr>\n",
       "    <tr>\n",
       "      <th>63</th>\n",
       "      <td>8</td>\n",
       "      <td>D00002</td>\n",
       "      <td>6</td>\n",
       "      <td>OA</td>\n",
       "      <td>132</td>\n",
       "      <td>1</td>\n",
       "    </tr>\n",
       "    <tr>\n",
       "      <th>112</th>\n",
       "      <td>15</td>\n",
       "      <td>D00002</td>\n",
       "      <td>5</td>\n",
       "      <td>YF</td>\n",
       "      <td>87</td>\n",
       "      <td>1</td>\n",
       "    </tr>\n",
       "    <tr>\n",
       "      <th>117</th>\n",
       "      <td>19</td>\n",
       "      <td>D00003</td>\n",
       "      <td>6</td>\n",
       "      <td>OA</td>\n",
       "      <td>154</td>\n",
       "      <td>1</td>\n",
       "    </tr>\n",
       "    <tr>\n",
       "      <th>49</th>\n",
       "      <td>9</td>\n",
       "      <td>D00002</td>\n",
       "      <td>2</td>\n",
       "      <td>NaN</td>\n",
       "      <td>391</td>\n",
       "      <td>1</td>\n",
       "    </tr>\n",
       "  </tbody>\n",
       "</table>\n",
       "</div>"
      ],
      "text/plain": [
       "     SHOP_HOUR PROD_CODE_40  SHOP_WEEKDAY CUST_LIFESTAGE  SPEND  QUANTITY\n",
       "42           8       D00001             5             OT    122         1\n",
       "63           8       D00002             6             OA    132         1\n",
       "112         15       D00002             5             YF     87         1\n",
       "117         19       D00003             6             OA    154         1\n",
       "49           9       D00002             2            NaN    391         1"
      ]
     },
     "execution_count": 10,
     "metadata": {},
     "output_type": "execute_result"
    }
   ],
   "source": [
    "data1 = supermarket_df[['SHOP_HOUR','PROD_CODE_40','SHOP_WEEKDAY','CUST_LIFESTAGE','SPEND','QUANTITY']]\n",
    "data1.sample(5)"
   ]
  },
  {
   "cell_type": "code",
   "execution_count": 11,
   "metadata": {},
   "outputs": [
    {
     "data": {
      "text/plain": [
       "OT    38\n",
       "YF    14\n",
       "OA    11\n",
       "OF     6\n",
       "YA     4\n",
       "Name: CUST_LIFESTAGE, dtype: int64"
      ]
     },
     "execution_count": 11,
     "metadata": {},
     "output_type": "execute_result"
    }
   ],
   "source": [
    "data1['CUST_LIFESTAGE'].value_counts()"
   ]
  },
  {
   "cell_type": "code",
   "execution_count": 12,
   "metadata": {},
   "outputs": [
    {
     "name": "stderr",
     "output_type": "stream",
     "text": [
      "C:\\Users\\admin\\Anaconda3\\lib\\site-packages\\pandas\\core\\generic.py:5434: SettingWithCopyWarning: \n",
      "A value is trying to be set on a copy of a slice from a DataFrame\n",
      "\n",
      "See the caveats in the documentation: http://pandas.pydata.org/pandas-docs/stable/indexing.html#indexing-view-versus-copy\n",
      "  self._update_inplace(new_data)\n"
     ]
    }
   ],
   "source": [
    "data1['CUST_LIFESTAGE'].fillna('unknown',inplace=True)"
   ]
  },
  {
   "cell_type": "code",
   "execution_count": 13,
   "metadata": {},
   "outputs": [
    {
     "data": {
      "text/plain": [
       "unknown    46\n",
       "OT         38\n",
       "YF         14\n",
       "OA         11\n",
       "OF          6\n",
       "YA          4\n",
       "Name: CUST_LIFESTAGE, dtype: int64"
      ]
     },
     "execution_count": 13,
     "metadata": {},
     "output_type": "execute_result"
    }
   ],
   "source": [
    "data1['CUST_LIFESTAGE'].value_counts()"
   ]
  },
  {
   "cell_type": "code",
   "execution_count": 14,
   "metadata": {},
   "outputs": [
    {
     "data": {
      "text/html": [
       "<div>\n",
       "<style scoped>\n",
       "    .dataframe tbody tr th:only-of-type {\n",
       "        vertical-align: middle;\n",
       "    }\n",
       "\n",
       "    .dataframe tbody tr th {\n",
       "        vertical-align: top;\n",
       "    }\n",
       "\n",
       "    .dataframe thead th {\n",
       "        text-align: right;\n",
       "    }\n",
       "</style>\n",
       "<table border=\"1\" class=\"dataframe\">\n",
       "  <thead>\n",
       "    <tr style=\"text-align: right;\">\n",
       "      <th></th>\n",
       "      <th>PROD_CODE_40</th>\n",
       "      <th>CUST_LIFESTAGE</th>\n",
       "      <th>count</th>\n",
       "    </tr>\n",
       "  </thead>\n",
       "  <tbody>\n",
       "    <tr>\n",
       "      <th>0</th>\n",
       "      <td>D00001</td>\n",
       "      <td>OA</td>\n",
       "      <td>1</td>\n",
       "    </tr>\n",
       "    <tr>\n",
       "      <th>1</th>\n",
       "      <td>D00001</td>\n",
       "      <td>OT</td>\n",
       "      <td>4</td>\n",
       "    </tr>\n",
       "    <tr>\n",
       "      <th>2</th>\n",
       "      <td>D00001</td>\n",
       "      <td>YA</td>\n",
       "      <td>1</td>\n",
       "    </tr>\n",
       "    <tr>\n",
       "      <th>3</th>\n",
       "      <td>D00001</td>\n",
       "      <td>YF</td>\n",
       "      <td>2</td>\n",
       "    </tr>\n",
       "    <tr>\n",
       "      <th>4</th>\n",
       "      <td>D00001</td>\n",
       "      <td>unknown</td>\n",
       "      <td>1</td>\n",
       "    </tr>\n",
       "    <tr>\n",
       "      <th>5</th>\n",
       "      <td>D00002</td>\n",
       "      <td>OA</td>\n",
       "      <td>4</td>\n",
       "    </tr>\n",
       "    <tr>\n",
       "      <th>6</th>\n",
       "      <td>D00002</td>\n",
       "      <td>OT</td>\n",
       "      <td>16</td>\n",
       "    </tr>\n",
       "    <tr>\n",
       "      <th>7</th>\n",
       "      <td>D00002</td>\n",
       "      <td>YA</td>\n",
       "      <td>1</td>\n",
       "    </tr>\n",
       "    <tr>\n",
       "      <th>8</th>\n",
       "      <td>D00002</td>\n",
       "      <td>YF</td>\n",
       "      <td>9</td>\n",
       "    </tr>\n",
       "    <tr>\n",
       "      <th>9</th>\n",
       "      <td>D00002</td>\n",
       "      <td>unknown</td>\n",
       "      <td>28</td>\n",
       "    </tr>\n",
       "    <tr>\n",
       "      <th>10</th>\n",
       "      <td>D00003</td>\n",
       "      <td>OA</td>\n",
       "      <td>1</td>\n",
       "    </tr>\n",
       "    <tr>\n",
       "      <th>11</th>\n",
       "      <td>D00003</td>\n",
       "      <td>OT</td>\n",
       "      <td>12</td>\n",
       "    </tr>\n",
       "    <tr>\n",
       "      <th>12</th>\n",
       "      <td>D00003</td>\n",
       "      <td>YF</td>\n",
       "      <td>3</td>\n",
       "    </tr>\n",
       "    <tr>\n",
       "      <th>13</th>\n",
       "      <td>D00003</td>\n",
       "      <td>unknown</td>\n",
       "      <td>11</td>\n",
       "    </tr>\n",
       "    <tr>\n",
       "      <th>14</th>\n",
       "      <td>D00005</td>\n",
       "      <td>OF</td>\n",
       "      <td>6</td>\n",
       "    </tr>\n",
       "    <tr>\n",
       "      <th>15</th>\n",
       "      <td>D00005</td>\n",
       "      <td>OT</td>\n",
       "      <td>6</td>\n",
       "    </tr>\n",
       "    <tr>\n",
       "      <th>16</th>\n",
       "      <td>D00005</td>\n",
       "      <td>YA</td>\n",
       "      <td>2</td>\n",
       "    </tr>\n",
       "    <tr>\n",
       "      <th>17</th>\n",
       "      <td>D00005</td>\n",
       "      <td>unknown</td>\n",
       "      <td>3</td>\n",
       "    </tr>\n",
       "    <tr>\n",
       "      <th>18</th>\n",
       "      <td>D00008</td>\n",
       "      <td>OA</td>\n",
       "      <td>5</td>\n",
       "    </tr>\n",
       "    <tr>\n",
       "      <th>19</th>\n",
       "      <td>D00008</td>\n",
       "      <td>unknown</td>\n",
       "      <td>3</td>\n",
       "    </tr>\n",
       "  </tbody>\n",
       "</table>\n",
       "</div>"
      ],
      "text/plain": [
       "   PROD_CODE_40 CUST_LIFESTAGE  count\n",
       "0        D00001             OA      1\n",
       "1        D00001             OT      4\n",
       "2        D00001             YA      1\n",
       "3        D00001             YF      2\n",
       "4        D00001        unknown      1\n",
       "5        D00002             OA      4\n",
       "6        D00002             OT     16\n",
       "7        D00002             YA      1\n",
       "8        D00002             YF      9\n",
       "9        D00002        unknown     28\n",
       "10       D00003             OA      1\n",
       "11       D00003             OT     12\n",
       "12       D00003             YF      3\n",
       "13       D00003        unknown     11\n",
       "14       D00005             OF      6\n",
       "15       D00005             OT      6\n",
       "16       D00005             YA      2\n",
       "17       D00005        unknown      3\n",
       "18       D00008             OA      5\n",
       "19       D00008        unknown      3"
      ]
     },
     "execution_count": 14,
     "metadata": {},
     "output_type": "execute_result"
    }
   ],
   "source": [
    "dd = data1.groupby(['PROD_CODE_40','CUST_LIFESTAGE']).size().reset_index(name='count')\n",
    "dd"
   ]
  },
  {
   "cell_type": "code",
   "execution_count": null,
   "metadata": {},
   "outputs": [],
   "source": []
  },
  {
   "cell_type": "code",
   "execution_count": 15,
   "metadata": {},
   "outputs": [
    {
     "data": {
      "image/png": "[encoded data removed]",
      "text/plain": [
       "<Figure size 449.675x360 with 1 Axes>"
      ]
     },
     "metadata": {
      "needs_background": "light"
     },
     "output_type": "display_data"
    }
   ],
   "source": [
    "#bar graph of customer lifestage vs the product code_40\n",
    "sns.catplot(x = 'CUST_LIFESTAGE', y='count', hue = 'PROD_CODE_40',data=dd, kind='bar',)\n",
    "plt.legend(loc='best')\n",
    "plt.show()"
   ]
  },
  {
   "cell_type": "code",
   "execution_count": null,
   "metadata": {},
   "outputs": [],
   "source": [
    "#using matplotlib to graph a side by side barchart for customer lifestage vs product 40\n"
   ]
  },
  {
   "cell_type": "code",
   "execution_count": 16,
   "metadata": {},
   "outputs": [],
   "source": [
    "sct = data1[['CUST_LIFESTAGE','PROD_CODE_40']]\n",
    "dd11 = data1.groupby(['PROD_CODE_40','CUST_LIFESTAGE']).size().reset_index(name='count')\n",
    "dd1 = dd11[dd11['PROD_CODE_40'] == 'D00001']\n",
    "dd2 = dd11[dd11['PROD_CODE_40'] == 'D00002']\n",
    "dd3 = dd11[dd11['PROD_CODE_40'] == 'D00003']\n",
    "dd5 = dd11[dd11['PROD_CODE_40'] == 'D00005']\n",
    "dd8 = dd11[dd11['PROD_CODE_40'] == 'D00008']"
   ]
  },
  {
   "cell_type": "code",
   "execution_count": 17,
   "metadata": {},
   "outputs": [
    {
     "data": {
      "image/png": "[encoded data removed]",
      "text/plain": [
       "<Figure size 1008x576 with 1 Axes>"
      ]
     },
     "metadata": {
      "needs_background": "light"
     },
     "output_type": "display_data"
    }
   ],
   "source": [
    "#PLoting a scatter plot\n",
    "\n",
    "fig, ax = plt.subplots(figsize=(14,8))\n",
    "\n",
    "plt.scatter(x=dd1['CUST_LIFESTAGE'],y=dd1['count'],color='r')\n",
    "plt.scatter(x=dd2['CUST_LIFESTAGE'], y=dd2['count'], color='b')\n",
    "plt.scatter(x=dd3['CUST_LIFESTAGE'], y=dd3['count'], color='w')\n",
    "plt.scatter(x=dd5['CUST_LIFESTAGE'], y=dd5['count'], color='y')\n",
    "plt.scatter(x=dd8['CUST_LIFESTAGE'], y=dd8['count'], color='#000000')\n",
    "plt.set_xlabel=('Customer lifestage')\n",
    "plt.set_title()\n",
    "plt.set_ylabel=('frequency of the products')\n",
    "\n",
    "plt.show()"
   ]
  },
  {
   "cell_type": "code",
   "execution_count": null,
   "metadata": {},
   "outputs": [],
   "source": []
  }
 ],
 "metadata": {
  "kernelspec": {
   "display_name": "Python 3",
   "language": "python",
   "name": "python3"
  },
  "language_info": {
   "codemirror_mode": {
    "name": "ipython",
    "version": 3
   },
   "file_extension": ".py",
   "mimetype": "text/x-python",
   "name": "python",
   "nbconvert_exporter": "python",
   "pygments_lexer": "ipython3",
   "version": "3.7.1"
  }
 },
 "nbformat": 4,
 "nbformat_minor": 2
}
